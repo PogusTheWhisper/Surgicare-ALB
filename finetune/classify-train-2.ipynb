{
 "cells": [
  {
   "cell_type": "code",
   "execution_count": 1,
   "id": "2ad1368d",
   "metadata": {
    "_cell_guid": "b1076dfc-b9ad-4769-8c92-a6c4dae69d19",
    "_uuid": "8f2839f25d086af736a60e9eeb907d3b93b6e0e5",
    "execution": {
     "iopub.execute_input": "2025-06-10T06:04:08.532278Z",
     "iopub.status.busy": "2025-06-10T06:04:08.531665Z",
     "iopub.status.idle": "2025-06-10T06:04:08.537810Z",
     "shell.execute_reply": "2025-06-10T06:04:08.537294Z"
    },
    "papermill": {
     "duration": 0.012715,
     "end_time": "2025-06-10T06:04:08.538942",
     "exception": false,
     "start_time": "2025-06-10T06:04:08.526227",
     "status": "completed"
    },
    "tags": []
   },
   "outputs": [],
   "source": [
    "import os\n",
    "os.environ['KAGGLE_USERNAME'] = 'pogusthewhisper'\n",
    "os.environ['KAGGLE_KEY'] = '755720e5147a6550b4d67a3b66981cb4'"
   ]
  },
  {
   "cell_type": "code",
   "execution_count": 2,
   "id": "d3255b14",
   "metadata": {
    "execution": {
     "iopub.execute_input": "2025-06-10T06:04:08.546946Z",
     "iopub.status.busy": "2025-06-10T06:04:08.546564Z",
     "iopub.status.idle": "2025-06-10T06:04:12.433565Z",
     "shell.execute_reply": "2025-06-10T06:04:12.432601Z"
    },
    "papermill": {
     "duration": 3.892402,
     "end_time": "2025-06-10T06:04:12.435011",
     "exception": false,
     "start_time": "2025-06-10T06:04:08.542609",
     "status": "completed"
    },
    "tags": []
   },
   "outputs": [],
   "source": [
    "!pip install -q split-folders"
   ]
  },
  {
   "cell_type": "code",
   "execution_count": 3,
   "id": "b9228e50",
   "metadata": {
    "execution": {
     "iopub.execute_input": "2025-06-10T06:04:12.443475Z",
     "iopub.status.busy": "2025-06-10T06:04:12.442831Z",
     "iopub.status.idle": "2025-06-10T06:04:27.554033Z",
     "shell.execute_reply": "2025-06-10T06:04:27.553161Z"
    },
    "papermill": {
     "duration": 15.116535,
     "end_time": "2025-06-10T06:04:27.555274",
     "exception": false,
     "start_time": "2025-06-10T06:04:12.438739",
     "status": "completed"
    },
    "tags": []
   },
   "outputs": [
    {
     "name": "stdout",
     "output_type": "stream",
     "text": [
      "Removed: /kaggle/working/pre_dataset/Surgical Wounds\n",
      "Removed: /kaggle/working/pre_dataset/Laseration\n",
      "Removed: /kaggle/working/pre_dataset/Venous Wounds\n",
      "Removed: /kaggle/working/pre_dataset/Pressure Wounds\n",
      "Removed: /kaggle/working/pre_dataset/Diabetic Wounds\n"
     ]
    }
   ],
   "source": [
    "import shutil\n",
    "import os\n",
    "\n",
    "src = '/kaggle/input/wound-classification/Wound_dataset copy'\n",
    "dest = '/kaggle/working/pre_dataset'\n",
    "\n",
    "exclude_folders = ['Diabetic Wounds', 'Surgical Wounds','Venous Wounds', 'Pressure Wounds', 'Laseration']\n",
    "\n",
    "shutil.copytree(src, dest, dirs_exist_ok=True)\n",
    "\n",
    "for root, dirs, files in os.walk(dest, topdown=False):\n",
    "    for dir_name in dirs:\n",
    "        if dir_name in exclude_folders:\n",
    "            folder_to_remove = os.path.join(root, dir_name)\n",
    "            shutil.rmtree(folder_to_remove)\n",
    "            print(f\"Removed: {folder_to_remove}\")"
   ]
  },
  {
   "cell_type": "code",
   "execution_count": 4,
   "id": "a132865a",
   "metadata": {
    "execution": {
     "iopub.execute_input": "2025-06-10T06:04:27.563533Z",
     "iopub.status.busy": "2025-06-10T06:04:27.563310Z",
     "iopub.status.idle": "2025-06-10T06:04:27.568070Z",
     "shell.execute_reply": "2025-06-10T06:04:27.567547Z"
    },
    "papermill": {
     "duration": 0.010256,
     "end_time": "2025-06-10T06:04:27.569092",
     "exception": false,
     "start_time": "2025-06-10T06:04:27.558836",
     "status": "completed"
    },
    "tags": []
   },
   "outputs": [],
   "source": [
    "def count_files_in_subfolders(directory):\n",
    "    total_files = 0\n",
    "    folder_file_counts = {}\n",
    "    \n",
    "    for root, dirs, files in os.walk(directory):\n",
    "        if root == directory:\n",
    "            continue\n",
    "        folder_name = os.path.basename(root)\n",
    "        file_count = len(files)\n",
    "        total_files += file_count\n",
    "        folder_file_counts[folder_name] = file_count\n",
    "\n",
    "    print(f\"Total files: {total_files}\\n\")\n",
    "    accumulated_ratio = 0\n",
    "    for folder_name, file_count in folder_file_counts.items():\n",
    "        if file_count > 0:\n",
    "            ratio = file_count / total_files if total_files > 0 else 0\n",
    "            print(f\"Folder: {folder_name} - File count: {file_count} - Ratio: {ratio:.2%}\")\n",
    "            accumulated_ratio += ratio\n",
    "    print(f\"Sum of ratios (as float): {accumulated_ratio:.2f}\")"
   ]
  },
  {
   "cell_type": "code",
   "execution_count": 5,
   "id": "a32797a2",
   "metadata": {
    "execution": {
     "iopub.execute_input": "2025-06-10T06:04:27.576456Z",
     "iopub.status.busy": "2025-06-10T06:04:27.576243Z",
     "iopub.status.idle": "2025-06-10T06:04:27.581025Z",
     "shell.execute_reply": "2025-06-10T06:04:27.580416Z"
    },
    "papermill": {
     "duration": 0.009644,
     "end_time": "2025-06-10T06:04:27.582052",
     "exception": false,
     "start_time": "2025-06-10T06:04:27.572408",
     "status": "completed"
    },
    "tags": []
   },
   "outputs": [
    {
     "name": "stdout",
     "output_type": "stream",
     "text": [
      "Total files: 840\n",
      "\n",
      "Folder: Normal - File count: 200 - Ratio: 23.81%\n",
      "Folder: Cut - File count: 100 - Ratio: 11.90%\n",
      "Folder: Abrasions - File count: 164 - Ratio: 19.52%\n",
      "Folder: Bruises - File count: 242 - Ratio: 28.81%\n",
      "Folder: Burns - File count: 134 - Ratio: 15.95%\n",
      "Sum of ratios (as float): 1.00\n"
     ]
    }
   ],
   "source": [
    "count_files_in_subfolders('/kaggle/working/pre_dataset')"
   ]
  },
  {
   "cell_type": "code",
   "execution_count": 6,
   "id": "0bee9ed0",
   "metadata": {
    "execution": {
     "iopub.execute_input": "2025-06-10T06:04:27.589578Z",
     "iopub.status.busy": "2025-06-10T06:04:27.589371Z",
     "iopub.status.idle": "2025-06-10T06:04:27.901581Z",
     "shell.execute_reply": "2025-06-10T06:04:27.900675Z"
    },
    "papermill": {
     "duration": 0.317242,
     "end_time": "2025-06-10T06:04:27.902730",
     "exception": false,
     "start_time": "2025-06-10T06:04:27.585488",
     "status": "completed"
    },
    "tags": []
   },
   "outputs": [
    {
     "name": "stderr",
     "output_type": "stream",
     "text": [
      "Copying files: 840 files [00:00, 6620.73 files/s]\n"
     ]
    }
   ],
   "source": [
    "import splitfolders\n",
    "splitfolders.ratio(\"/kaggle/working/pre_dataset\", \n",
    "                    output=\"/kaggle/working/dataset\",\n",
    "                    seed=69, \n",
    "                    ratio=(.7, .15, .15), \n",
    "                    move=False)\n",
    "!rm -r '/kaggle/working/pre_dataset'"
   ]
  },
  {
   "cell_type": "code",
   "execution_count": 7,
   "id": "83fa15fd",
   "metadata": {
    "execution": {
     "iopub.execute_input": "2025-06-10T06:04:27.910991Z",
     "iopub.status.busy": "2025-06-10T06:04:27.910754Z",
     "iopub.status.idle": "2025-06-10T06:04:27.915780Z",
     "shell.execute_reply": "2025-06-10T06:04:27.915197Z"
    },
    "papermill": {
     "duration": 0.010412,
     "end_time": "2025-06-10T06:04:27.916841",
     "exception": false,
     "start_time": "2025-06-10T06:04:27.906429",
     "status": "completed"
    },
    "tags": []
   },
   "outputs": [
    {
     "name": "stdout",
     "output_type": "stream",
     "text": [
      "Total files: 586\n",
      "\n",
      "Folder: Normal - File count: 140 - Ratio: 23.89%\n",
      "Folder: Cut - File count: 70 - Ratio: 11.95%\n",
      "Folder: Abrasions - File count: 114 - Ratio: 19.45%\n",
      "Folder: Bruises - File count: 169 - Ratio: 28.84%\n",
      "Folder: Burns - File count: 93 - Ratio: 15.87%\n",
      "Sum of ratios (as float): 1.00\n"
     ]
    }
   ],
   "source": [
    "count_files_in_subfolders('/kaggle/working/dataset/train')"
   ]
  },
  {
   "cell_type": "code",
   "execution_count": 8,
   "id": "5cf97ae8",
   "metadata": {
    "execution": {
     "iopub.execute_input": "2025-06-10T06:04:27.924693Z",
     "iopub.status.busy": "2025-06-10T06:04:27.924470Z",
     "iopub.status.idle": "2025-06-10T06:04:27.928972Z",
     "shell.execute_reply": "2025-06-10T06:04:27.928204Z"
    },
    "papermill": {
     "duration": 0.009674,
     "end_time": "2025-06-10T06:04:27.930078",
     "exception": false,
     "start_time": "2025-06-10T06:04:27.920404",
     "status": "completed"
    },
    "tags": []
   },
   "outputs": [
    {
     "name": "stdout",
     "output_type": "stream",
     "text": [
      "Total files: 129\n",
      "\n",
      "Folder: Normal - File count: 30 - Ratio: 23.26%\n",
      "Folder: Cut - File count: 15 - Ratio: 11.63%\n",
      "Folder: Abrasions - File count: 26 - Ratio: 20.16%\n",
      "Folder: Bruises - File count: 37 - Ratio: 28.68%\n",
      "Folder: Burns - File count: 21 - Ratio: 16.28%\n",
      "Sum of ratios (as float): 1.00\n"
     ]
    }
   ],
   "source": [
    "count_files_in_subfolders('/kaggle/working/dataset/test')"
   ]
  },
  {
   "cell_type": "code",
   "execution_count": 9,
   "id": "b55761e3",
   "metadata": {
    "execution": {
     "iopub.execute_input": "2025-06-10T06:04:27.937836Z",
     "iopub.status.busy": "2025-06-10T06:04:27.937669Z",
     "iopub.status.idle": "2025-06-10T06:04:27.941750Z",
     "shell.execute_reply": "2025-06-10T06:04:27.941165Z"
    },
    "papermill": {
     "duration": 0.008994,
     "end_time": "2025-06-10T06:04:27.942796",
     "exception": false,
     "start_time": "2025-06-10T06:04:27.933802",
     "status": "completed"
    },
    "tags": []
   },
   "outputs": [
    {
     "name": "stdout",
     "output_type": "stream",
     "text": [
      "Total files: 125\n",
      "\n",
      "Folder: Normal - File count: 30 - Ratio: 24.00%\n",
      "Folder: Cut - File count: 15 - Ratio: 12.00%\n",
      "Folder: Abrasions - File count: 24 - Ratio: 19.20%\n",
      "Folder: Bruises - File count: 36 - Ratio: 28.80%\n",
      "Folder: Burns - File count: 20 - Ratio: 16.00%\n",
      "Sum of ratios (as float): 1.00\n"
     ]
    }
   ],
   "source": [
    "count_files_in_subfolders('/kaggle/working/dataset/val')"
   ]
  },
  {
   "cell_type": "code",
   "execution_count": 10,
   "id": "2c2b81ba",
   "metadata": {
    "execution": {
     "iopub.execute_input": "2025-06-10T06:04:27.950777Z",
     "iopub.status.busy": "2025-06-10T06:04:27.950600Z",
     "iopub.status.idle": "2025-06-10T06:04:37.789648Z",
     "shell.execute_reply": "2025-06-10T06:04:37.788854Z"
    },
    "papermill": {
     "duration": 9.844629,
     "end_time": "2025-06-10T06:04:37.791067",
     "exception": false,
     "start_time": "2025-06-10T06:04:27.946438",
     "status": "completed"
    },
    "tags": []
   },
   "outputs": [],
   "source": [
    "import os\n",
    "import torch\n",
    "import torch.nn as nn\n",
    "import torch.nn.functional as F\n",
    "from torchvision import datasets, transforms\n",
    "from torchvision.models import efficientnet_v2_l, EfficientNet_V2_L_Weights\n",
    "from torch.utils.data import DataLoader, Subset, WeightedRandomSampler\n",
    "from torch.optim.lr_scheduler import CosineAnnealingLR\n",
    "from torch.amp import autocast, GradScaler\n",
    "from sklearn.model_selection import StratifiedKFold\n",
    "from sklearn.metrics import accuracy_score, f1_score\n",
    "from collections import Counter\n",
    "import numpy as np\n",
    "import matplotlib.pyplot as plt"
   ]
  },
  {
   "cell_type": "code",
   "execution_count": 11,
   "id": "207479f5",
   "metadata": {
    "execution": {
     "iopub.execute_input": "2025-06-10T06:04:37.801596Z",
     "iopub.status.busy": "2025-06-10T06:04:37.801260Z",
     "iopub.status.idle": "2025-06-10T06:04:37.806619Z",
     "shell.execute_reply": "2025-06-10T06:04:37.806081Z"
    },
    "papermill": {
     "duration": 0.010716,
     "end_time": "2025-06-10T06:04:37.807596",
     "exception": false,
     "start_time": "2025-06-10T06:04:37.796880",
     "status": "completed"
    },
    "tags": []
   },
   "outputs": [],
   "source": [
    "train_dir = '/kaggle/working/dataset/train'\n",
    "test_dir = '/kaggle/working/dataset/test'\n",
    "val_dir = '/kaggle/working/dataset/val'\n",
    "\n",
    "train_tf = transforms.Compose([\n",
    "    transforms.RandomResizedCrop(224),\n",
    "    transforms.RandomHorizontalFlip(),\n",
    "    transforms.RandomRotation(15),\n",
    "    transforms.ColorJitter(brightness=0.2, contrast=0.2, saturation=0.2, hue=0.1),\n",
    "    transforms.ToTensor(),\n",
    "    transforms.Normalize(mean=[0.485, 0.456, 0.406], std=[0.229, 0.224, 0.225]),\n",
    "])\n",
    "\n",
    "val_tf = transforms.Compose([\n",
    "    transforms.Resize(256),\n",
    "    transforms.CenterCrop(224),\n",
    "    transforms.ToTensor(),\n",
    "    transforms.Normalize(mean=[0.485, 0.456, 0.406], std=[0.229, 0.224, 0.225]),\n",
    "])"
   ]
  },
  {
   "cell_type": "code",
   "execution_count": 12,
   "id": "1c16bf6f",
   "metadata": {
    "execution": {
     "iopub.execute_input": "2025-06-10T06:04:37.815584Z",
     "iopub.status.busy": "2025-06-10T06:04:37.815312Z",
     "iopub.status.idle": "2025-06-10T06:04:37.823141Z",
     "shell.execute_reply": "2025-06-10T06:04:37.822628Z"
    },
    "papermill": {
     "duration": 0.01295,
     "end_time": "2025-06-10T06:04:37.824063",
     "exception": false,
     "start_time": "2025-06-10T06:04:37.811113",
     "status": "completed"
    },
    "tags": []
   },
   "outputs": [],
   "source": [
    "class WoundClassifier(nn.Module):\n",
    "    def __init__(self, num_classes=5, dropout=0.4):\n",
    "        super().__init__()\n",
    "\n",
    "        base = efficientnet_v2_l(weights=EfficientNet_V2_L_Weights.DEFAULT)\n",
    "        n_features = base.classifier[1].in_features\n",
    "        base.classifier = nn.Identity()\n",
    "        self.backbone = base\n",
    "\n",
    "        self.shared_head = nn.Sequential(\n",
    "            nn.Linear(n_features, 512),\n",
    "            nn.GELU(),\n",
    "            nn.BatchNorm1d(512),\n",
    "            nn.Dropout(dropout)\n",
    "        )\n",
    "\n",
    "        self.class_head = nn.Sequential(\n",
    "            nn.Linear(512, 256),\n",
    "            nn.GELU(),\n",
    "            nn.BatchNorm1d(256),\n",
    "            nn.Dropout(dropout),\n",
    "            nn.Linear(256, num_classes)\n",
    "        )\n",
    "\n",
    "        self.layer_groups = [\n",
    "            self.backbone.features[0:2],\n",
    "            self.backbone.features[2:4],\n",
    "            self.backbone.features[4:6],\n",
    "            self.backbone.features[6:]\n",
    "        ]\n",
    "\n",
    "    def forward(self, x):\n",
    "        x = self.backbone(x)\n",
    "        x = self.shared_head(x)\n",
    "        cls_out = self.class_head(x)\n",
    "        return cls_out\n",
    "\n",
    "    def freeze_all(self):\n",
    "        for param in self.backbone.parameters():\n",
    "            param.requires_grad = False\n",
    "\n",
    "    def unfreeze_all(self):\n",
    "        for param in self.backbone.parameters():\n",
    "            param.requires_grad = True\n",
    "\n",
    "    def unfreeze_group(self, group_idx):\n",
    "        for param in self.layer_groups[group_idx].parameters():\n",
    "            param.requires_grad = True\n",
    "\n",
    "    def freeze_group(self, group_idx):\n",
    "        for param in self.layer_groups[group_idx].parameters():\n",
    "            param.requires_grad = False"
   ]
  },
  {
   "cell_type": "code",
   "execution_count": 13,
   "id": "eaef197b",
   "metadata": {
    "execution": {
     "iopub.execute_input": "2025-06-10T06:04:37.831831Z",
     "iopub.status.busy": "2025-06-10T06:04:37.831661Z",
     "iopub.status.idle": "2025-06-10T06:04:37.837416Z",
     "shell.execute_reply": "2025-06-10T06:04:37.836838Z"
    },
    "papermill": {
     "duration": 0.010823,
     "end_time": "2025-06-10T06:04:37.838479",
     "exception": false,
     "start_time": "2025-06-10T06:04:37.827656",
     "status": "completed"
    },
    "tags": []
   },
   "outputs": [],
   "source": [
    "class FocalLossWithSmoothing(nn.Module):\n",
    "    def __init__(self, gamma=2.0, smoothing=0.1):\n",
    "        super().__init__()\n",
    "        self.gamma = gamma\n",
    "        self.smoothing = smoothing\n",
    "\n",
    "    def forward(self, logits, targets):\n",
    "        num_classes = logits.size(1)\n",
    "        with torch.no_grad():\n",
    "            true_dist = torch.zeros_like(logits)\n",
    "            true_dist.fill_(self.smoothing / (num_classes - 1))\n",
    "            true_dist.scatter_(1, targets.unsqueeze(1), 1.0 - self.smoothing)\n",
    "\n",
    "        log_probs = F.log_softmax(logits, dim=1)\n",
    "        probs = torch.exp(log_probs)\n",
    "        focal = (1 - probs.gather(1, targets.unsqueeze(1)).squeeze(1)) ** self.gamma\n",
    "        loss = -torch.sum(true_dist * log_probs, dim=1)\n",
    "        return (focal * loss).mean()\n",
    "\n",
    "class ClassificationLoss(nn.Module):\n",
    "    def __init__(self):\n",
    "        super().__init__()\n",
    "        self.cls_loss = FocalLossWithSmoothing()\n",
    "\n",
    "    def forward(self, cls_pred, cls_target):\n",
    "        loss_cls = self.cls_loss(cls_pred, cls_target)\n",
    "        return loss_cls, loss_cls.item()"
   ]
  },
  {
   "cell_type": "code",
   "execution_count": 14,
   "id": "1278403e",
   "metadata": {
    "execution": {
     "iopub.execute_input": "2025-06-10T06:04:37.846462Z",
     "iopub.status.busy": "2025-06-10T06:04:37.846046Z",
     "iopub.status.idle": "2025-06-10T06:04:37.850602Z",
     "shell.execute_reply": "2025-06-10T06:04:37.849921Z"
    },
    "papermill": {
     "duration": 0.009688,
     "end_time": "2025-06-10T06:04:37.851708",
     "exception": false,
     "start_time": "2025-06-10T06:04:37.842020",
     "status": "completed"
    },
    "tags": []
   },
   "outputs": [],
   "source": [
    "class EarlyStopping:\n",
    "    def __init__(self, patience=6, delta=0.0, save_path='best_model.pt'):\n",
    "        self.patience = patience\n",
    "        self.delta = delta\n",
    "        self.best_score = None\n",
    "        self.counter = 0\n",
    "        self.early_stop = False\n",
    "        self.save_path = save_path\n",
    "\n",
    "    def __call__(self, val_loss, model):\n",
    "        score = -val_loss\n",
    "        if self.best_score is None or score > self.best_score + self.delta:\n",
    "            self.best_score = score\n",
    "            self.counter = 0\n",
    "            torch.save(model.state_dict(), self.save_path)\n",
    "        else:\n",
    "            self.counter += 1\n",
    "            if self.counter >= self.patience:\n",
    "                self.early_stop = True"
   ]
  },
  {
   "cell_type": "code",
   "execution_count": 15,
   "id": "0feb0d65",
   "metadata": {
    "execution": {
     "iopub.execute_input": "2025-06-10T06:04:37.860067Z",
     "iopub.status.busy": "2025-06-10T06:04:37.859875Z",
     "iopub.status.idle": "2025-06-10T06:04:37.865996Z",
     "shell.execute_reply": "2025-06-10T06:04:37.865338Z"
    },
    "papermill": {
     "duration": 0.011184,
     "end_time": "2025-06-10T06:04:37.866960",
     "exception": false,
     "start_time": "2025-06-10T06:04:37.855776",
     "status": "completed"
    },
    "tags": []
   },
   "outputs": [],
   "source": [
    "from sklearn.model_selection import StratifiedKFold, StratifiedShuffleSplit\n",
    "from torch.utils.data import Subset, DataLoader, WeightedRandomSampler\n",
    "from collections import Counter\n",
    "import numpy as np\n",
    "\n",
    "def create_sampler(subset):\n",
    "    labels = [subset.dataset.targets[i] for i in subset.indices]\n",
    "    class_counts = Counter(labels)\n",
    "    class_weights = {cls: 1.0 / count for cls, count in class_counts.items()}\n",
    "    weights = [class_weights[label] for label in labels]\n",
    "    return WeightedRandomSampler(weights, len(weights), replacement=True)\n",
    "\n",
    "def get_kfold_dataloaders(dataset, k=5, batch_size=32, val_dir='/kaggle/working/dataset/val'):\n",
    "    y = dataset.targets\n",
    "    skf = StratifiedKFold(n_splits=k, shuffle=True, random_state=42)\n",
    "    folds = []\n",
    "\n",
    "    val_dataset = datasets.ImageFolder(val_dir, transform=val_tf)\n",
    "\n",
    "    for train_idx, _ in skf.split(np.arange(len(dataset)), y):\n",
    "        train_ds = Subset(dataset, train_idx)\n",
    "        train_ds.dataset.transform = train_tf\n",
    "\n",
    "        val_ds = val_dataset  # Use fixed validation set\n",
    "\n",
    "        train_loader = DataLoader(train_ds, batch_size=batch_size, sampler=create_sampler(train_ds))\n",
    "        val_loader = DataLoader(val_ds, batch_size=batch_size, shuffle=False)\n",
    "\n",
    "        folds.append({'train': train_loader, 'val': val_loader})\n",
    "\n",
    "    return folds"
   ]
  },
  {
   "cell_type": "code",
   "execution_count": 16,
   "id": "c39afbeb",
   "metadata": {
    "execution": {
     "iopub.execute_input": "2025-06-10T06:04:37.875033Z",
     "iopub.status.busy": "2025-06-10T06:04:37.874841Z",
     "iopub.status.idle": "2025-06-10T06:04:37.973445Z",
     "shell.execute_reply": "2025-06-10T06:04:37.972825Z"
    },
    "papermill": {
     "duration": 0.104026,
     "end_time": "2025-06-10T06:04:37.974604",
     "exception": false,
     "start_time": "2025-06-10T06:04:37.870578",
     "status": "completed"
    },
    "tags": []
   },
   "outputs": [],
   "source": [
    "def train_top_down(model_class, dataset, num_classes=5, stages=4, epochs_per_stage=10,\n",
    "                   batch_size=16, base_lr=5e-4, weight_decay=5e-5,\n",
    "                   patience=5, device='cuda' if torch.cuda.is_available() else 'cpu'):\n",
    "\n",
    "    folds = get_kfold_dataloaders(dataset, k=5, batch_size=batch_size, val_dir=val_dir)\n",
    "    results = []\n",
    "\n",
    "    for fold_idx, loaders in enumerate(folds):\n",
    "        print(f\"\\n🔁 Starting Fold {fold_idx + 1}/5\")\n",
    "\n",
    "        model = model_class(num_classes=num_classes).to(device)\n",
    "        model.freeze_all()\n",
    "        model.shared_head.requires_grad_(True)\n",
    "        model.class_head.requires_grad_(True)\n",
    "\n",
    "        train_loader = loaders['train']\n",
    "        val_loader = loaders['val']\n",
    "        loss_fn = ClassificationLoss()\n",
    "\n",
    "        for stage in range(stages):\n",
    "            print(f\"\\nStage {stage + 1}/{stages}: Unfreezing group {stage}\")\n",
    "            if stage > 0:\n",
    "                model.unfreeze_group(stage - 1)\n",
    "\n",
    "            optimizer = torch.optim.AdamW(filter(lambda p: p.requires_grad, model.parameters()),\n",
    "                                          lr=base_lr * (0.5 ** stage), weight_decay=weight_decay)\n",
    "            scheduler = CosineAnnealingLR(optimizer, T_max=epochs_per_stage)\n",
    "            scaler = GradScaler()\n",
    "            early_stopper = EarlyStopping(patience=patience,\n",
    "                                          save_path=f'topdown_model_fold{fold_idx}_stage{stage}.pt')\n",
    "\n",
    "            for epoch in range(epochs_per_stage):\n",
    "                model.train()\n",
    "                train_loss = 0.0\n",
    "\n",
    "                for inputs, targets in train_loader:\n",
    "                    inputs = inputs.to(device)\n",
    "                    cls_targets = targets.to(device).long()\n",
    "\n",
    "                    optimizer.zero_grad()\n",
    "                    with autocast(device_type=device):\n",
    "                        cls_out = model(inputs)\n",
    "                        loss, _ = loss_fn(cls_out, cls_targets)\n",
    "                    scaler.scale(loss).backward()\n",
    "                    scaler.step(optimizer)\n",
    "                    scaler.update()\n",
    "                    train_loss += loss.item() * inputs.size(0)\n",
    "\n",
    "                train_loss /= len(train_loader.dataset)\n",
    "\n",
    "                # Validation\n",
    "                model.eval()\n",
    "                val_loss = 0.0\n",
    "                all_preds, all_targets = [], []\n",
    "                with torch.no_grad():\n",
    "                    for inputs, targets in val_loader:\n",
    "                        inputs = inputs.to(device)\n",
    "                        cls_targets = targets.to(device).long()\n",
    "\n",
    "                        cls_out = model(inputs)\n",
    "                        loss, _ = loss_fn(cls_out, cls_targets)\n",
    "                        val_loss += loss.item() * inputs.size(0)\n",
    "                        preds = torch.argmax(cls_out, dim=1)\n",
    "                        all_preds.extend(preds.cpu().numpy())\n",
    "                        all_targets.extend(cls_targets.cpu().numpy())\n",
    "\n",
    "                val_loss /= len(val_loader.dataset)\n",
    "                val_acc = accuracy_score(all_targets, all_preds)\n",
    "                val_f1 = f1_score(all_targets, all_preds, average='macro')\n",
    "                scheduler.step()\n",
    "\n",
    "                print(f\"[Fold {fold_idx+1} | Stage {stage+1} | Epoch {epoch+1}/{epochs_per_stage}] \"\n",
    "                      f\"Train Loss: {train_loss:.4f} | Val Loss: {val_loss:.4f} \"\n",
    "                      f\"| Val Acc: {val_acc:.4f} | Val F1: {val_f1:.4f}\")\n",
    "\n",
    "                early_stopper(val_loss, model)\n",
    "                if early_stopper.early_stop:\n",
    "                    print(\"Early stopping\")\n",
    "                    break\n",
    "\n",
    "            model.load_state_dict(torch.load(f'topdown_model_fold{fold_idx}_stage{stage}.pt'))\n",
    "\n",
    "        # Final evaluation\n",
    "        model.eval()\n",
    "        all_preds, all_targets = [], []\n",
    "        with torch.no_grad():\n",
    "            for inputs, targets in val_loader:\n",
    "                inputs = inputs.to(device)\n",
    "                cls_targets = targets.to(device).long()\n",
    "\n",
    "                cls_out = model(inputs)\n",
    "                preds = torch.argmax(cls_out, dim=1)\n",
    "                all_preds.extend(preds.cpu().numpy())\n",
    "                all_targets.extend(cls_targets.cpu().numpy())\n",
    "\n",
    "        fold_acc = accuracy_score(all_targets, all_preds)\n",
    "        fold_f1 = f1_score(all_targets, all_preds, average='macro')\n",
    "        results.append({'fold': fold_idx + 1, 'accuracy': fold_acc, 'f1': fold_f1})\n",
    "        print(f\"Fold {fold_idx + 1} Accuracy: {fold_acc:.4f}, F1: {fold_f1:.4f}\")\n",
    "\n",
    "    print(\"\\nSummary:\")\n",
    "    for res in results:\n",
    "        print(f\"Fold {res['fold']} - Accuracy: {res['accuracy']:.4f}, F1: {res['f1']:.4f}\")\n",
    "    print(f\"\\nAvg Accuracy: {np.mean([r['accuracy'] for r in results]):.4f} | \"\n",
    "          f\"Avg F1: {np.mean([r['f1'] for r in results]):.4f}\")"
   ]
  },
  {
   "cell_type": "code",
   "execution_count": 17,
   "id": "19707f06",
   "metadata": {
    "collapsed": true,
    "execution": {
     "iopub.execute_input": "2025-06-10T06:04:37.982766Z",
     "iopub.status.busy": "2025-06-10T06:04:37.982575Z",
     "iopub.status.idle": "2025-06-10T06:48:00.077632Z",
     "shell.execute_reply": "2025-06-10T06:48:00.076714Z"
    },
    "jupyter": {
     "outputs_hidden": true
    },
    "papermill": {
     "duration": 2602.10086,
     "end_time": "2025-06-10T06:48:00.079234",
     "exception": false,
     "start_time": "2025-06-10T06:04:37.978374",
     "status": "completed"
    },
    "tags": []
   },
   "outputs": [
    {
     "name": "stdout",
     "output_type": "stream",
     "text": [
      "\n",
      "🔁 Starting Fold 1/5\n"
     ]
    },
    {
     "name": "stderr",
     "output_type": "stream",
     "text": [
      "Downloading: \"https://download.pytorch.org/models/efficientnet_v2_l-59c71312.pth\" to /root/.cache/torch/hub/checkpoints/efficientnet_v2_l-59c71312.pth\n",
      "100%|██████████| 455M/455M [00:02<00:00, 230MB/s]\n"
     ]
    },
    {
     "name": "stdout",
     "output_type": "stream",
     "text": [
      "\n",
      "Stage 1/4: Unfreezing group 0\n",
      "[Fold 1 | Stage 1 | Epoch 1/10] Train Loss: 0.9183 | Val Loss: 0.5784 | Val Acc: 0.7280 | Val F1: 0.7285\n",
      "[Fold 1 | Stage 1 | Epoch 2/10] Train Loss: 0.6284 | Val Loss: 0.3420 | Val Acc: 0.8080 | Val F1: 0.8100\n",
      "[Fold 1 | Stage 1 | Epoch 3/10] Train Loss: 0.4679 | Val Loss: 0.3094 | Val Acc: 0.8000 | Val F1: 0.7860\n",
      "[Fold 1 | Stage 1 | Epoch 4/10] Train Loss: 0.4740 | Val Loss: 0.3433 | Val Acc: 0.8080 | Val F1: 0.8123\n",
      "[Fold 1 | Stage 1 | Epoch 5/10] Train Loss: 0.5036 | Val Loss: 0.2974 | Val Acc: 0.8400 | Val F1: 0.8306\n",
      "[Fold 1 | Stage 1 | Epoch 6/10] Train Loss: 0.4236 | Val Loss: 0.2842 | Val Acc: 0.8000 | Val F1: 0.7967\n",
      "[Fold 1 | Stage 1 | Epoch 7/10] Train Loss: 0.4221 | Val Loss: 0.2910 | Val Acc: 0.7840 | Val F1: 0.7831\n",
      "[Fold 1 | Stage 1 | Epoch 8/10] Train Loss: 0.4709 | Val Loss: 0.2649 | Val Acc: 0.8000 | Val F1: 0.7969\n",
      "[Fold 1 | Stage 1 | Epoch 9/10] Train Loss: 0.4038 | Val Loss: 0.2467 | Val Acc: 0.8480 | Val F1: 0.8404\n",
      "[Fold 1 | Stage 1 | Epoch 10/10] Train Loss: 0.4188 | Val Loss: 0.2153 | Val Acc: 0.8720 | Val F1: 0.8647\n",
      "\n",
      "Stage 2/4: Unfreezing group 1\n",
      "[Fold 1 | Stage 2 | Epoch 1/10] Train Loss: 0.4443 | Val Loss: 0.2335 | Val Acc: 0.8640 | Val F1: 0.8592\n",
      "[Fold 1 | Stage 2 | Epoch 2/10] Train Loss: 0.3630 | Val Loss: 0.2549 | Val Acc: 0.8400 | Val F1: 0.8244\n",
      "[Fold 1 | Stage 2 | Epoch 3/10] Train Loss: 0.4100 | Val Loss: 0.2078 | Val Acc: 0.8800 | Val F1: 0.8702\n",
      "[Fold 1 | Stage 2 | Epoch 4/10] Train Loss: 0.3693 | Val Loss: 0.2482 | Val Acc: 0.8640 | Val F1: 0.8516\n",
      "[Fold 1 | Stage 2 | Epoch 5/10] Train Loss: 0.3426 | Val Loss: 0.2174 | Val Acc: 0.8960 | Val F1: 0.8935\n",
      "[Fold 1 | Stage 2 | Epoch 6/10] Train Loss: 0.3437 | Val Loss: 0.2122 | Val Acc: 0.8720 | Val F1: 0.8604\n",
      "[Fold 1 | Stage 2 | Epoch 7/10] Train Loss: 0.3894 | Val Loss: 0.2211 | Val Acc: 0.8800 | Val F1: 0.8731\n",
      "[Fold 1 | Stage 2 | Epoch 8/10] Train Loss: 0.3091 | Val Loss: 0.1901 | Val Acc: 0.8800 | Val F1: 0.8706\n",
      "[Fold 1 | Stage 2 | Epoch 9/10] Train Loss: 0.3021 | Val Loss: 0.2246 | Val Acc: 0.8800 | Val F1: 0.8735\n",
      "[Fold 1 | Stage 2 | Epoch 10/10] Train Loss: 0.3216 | Val Loss: 0.2298 | Val Acc: 0.8320 | Val F1: 0.8254\n",
      "\n",
      "Stage 3/4: Unfreezing group 2\n",
      "[Fold 1 | Stage 3 | Epoch 1/10] Train Loss: 0.3850 | Val Loss: 0.1756 | Val Acc: 0.9040 | Val F1: 0.8918\n",
      "[Fold 1 | Stage 3 | Epoch 2/10] Train Loss: 0.3221 | Val Loss: 0.2103 | Val Acc: 0.8880 | Val F1: 0.8878\n",
      "[Fold 1 | Stage 3 | Epoch 3/10] Train Loss: 0.2972 | Val Loss: 0.1871 | Val Acc: 0.8960 | Val F1: 0.8920\n",
      "[Fold 1 | Stage 3 | Epoch 4/10] Train Loss: 0.2808 | Val Loss: 0.1692 | Val Acc: 0.9040 | Val F1: 0.9031\n",
      "[Fold 1 | Stage 3 | Epoch 5/10] Train Loss: 0.3237 | Val Loss: 0.1674 | Val Acc: 0.8960 | Val F1: 0.8944\n",
      "[Fold 1 | Stage 3 | Epoch 6/10] Train Loss: 0.2949 | Val Loss: 0.1654 | Val Acc: 0.9360 | Val F1: 0.9366\n",
      "[Fold 1 | Stage 3 | Epoch 7/10] Train Loss: 0.2650 | Val Loss: 0.1502 | Val Acc: 0.9200 | Val F1: 0.9165\n",
      "[Fold 1 | Stage 3 | Epoch 8/10] Train Loss: 0.3165 | Val Loss: 0.1592 | Val Acc: 0.9200 | Val F1: 0.9180\n",
      "[Fold 1 | Stage 3 | Epoch 9/10] Train Loss: 0.2460 | Val Loss: 0.1567 | Val Acc: 0.9040 | Val F1: 0.8969\n",
      "[Fold 1 | Stage 3 | Epoch 10/10] Train Loss: 0.2523 | Val Loss: 0.1645 | Val Acc: 0.8880 | Val F1: 0.8791\n",
      "\n",
      "Stage 4/4: Unfreezing group 3\n",
      "[Fold 1 | Stage 4 | Epoch 1/10] Train Loss: 0.3127 | Val Loss: 0.1387 | Val Acc: 0.9280 | Val F1: 0.9264\n",
      "[Fold 1 | Stage 4 | Epoch 2/10] Train Loss: 0.2662 | Val Loss: 0.1660 | Val Acc: 0.8880 | Val F1: 0.8923\n",
      "[Fold 1 | Stage 4 | Epoch 3/10] Train Loss: 0.2882 | Val Loss: 0.1236 | Val Acc: 0.9280 | Val F1: 0.9218\n",
      "[Fold 1 | Stage 4 | Epoch 4/10] Train Loss: 0.2342 | Val Loss: 0.1177 | Val Acc: 0.9280 | Val F1: 0.9202\n",
      "[Fold 1 | Stage 4 | Epoch 5/10] Train Loss: 0.2417 | Val Loss: 0.1058 | Val Acc: 0.9440 | Val F1: 0.9365\n",
      "[Fold 1 | Stage 4 | Epoch 6/10] Train Loss: 0.2437 | Val Loss: 0.1047 | Val Acc: 0.9360 | Val F1: 0.9323\n",
      "[Fold 1 | Stage 4 | Epoch 7/10] Train Loss: 0.2086 | Val Loss: 0.1084 | Val Acc: 0.9440 | Val F1: 0.9384\n",
      "[Fold 1 | Stage 4 | Epoch 8/10] Train Loss: 0.2472 | Val Loss: 0.1100 | Val Acc: 0.9360 | Val F1: 0.9251\n",
      "[Fold 1 | Stage 4 | Epoch 9/10] Train Loss: 0.2480 | Val Loss: 0.0976 | Val Acc: 0.9440 | Val F1: 0.9452\n",
      "[Fold 1 | Stage 4 | Epoch 10/10] Train Loss: 0.2108 | Val Loss: 0.1111 | Val Acc: 0.9360 | Val F1: 0.9302\n",
      "Fold 1 Accuracy: 0.9440, F1: 0.9452\n",
      "\n",
      "🔁 Starting Fold 2/5\n",
      "\n",
      "Stage 1/4: Unfreezing group 0\n",
      "[Fold 2 | Stage 1 | Epoch 1/10] Train Loss: 0.8612 | Val Loss: 0.6504 | Val Acc: 0.6240 | Val F1: 0.6273\n",
      "[Fold 2 | Stage 1 | Epoch 2/10] Train Loss: 0.6544 | Val Loss: 0.3922 | Val Acc: 0.7360 | Val F1: 0.7328\n",
      "[Fold 2 | Stage 1 | Epoch 3/10] Train Loss: 0.5195 | Val Loss: 0.3491 | Val Acc: 0.7920 | Val F1: 0.7898\n",
      "[Fold 2 | Stage 1 | Epoch 4/10] Train Loss: 0.5089 | Val Loss: 0.2876 | Val Acc: 0.8000 | Val F1: 0.7942\n",
      "[Fold 2 | Stage 1 | Epoch 5/10] Train Loss: 0.5058 | Val Loss: 0.2951 | Val Acc: 0.8080 | Val F1: 0.8022\n",
      "[Fold 2 | Stage 1 | Epoch 6/10] Train Loss: 0.4361 | Val Loss: 0.2758 | Val Acc: 0.8160 | Val F1: 0.8171\n",
      "[Fold 2 | Stage 1 | Epoch 7/10] Train Loss: 0.4033 | Val Loss: 0.2076 | Val Acc: 0.8800 | Val F1: 0.8817\n",
      "[Fold 2 | Stage 1 | Epoch 8/10] Train Loss: 0.4311 | Val Loss: 0.2556 | Val Acc: 0.8320 | Val F1: 0.8381\n",
      "[Fold 2 | Stage 1 | Epoch 9/10] Train Loss: 0.4484 | Val Loss: 0.2542 | Val Acc: 0.8240 | Val F1: 0.8231\n",
      "[Fold 2 | Stage 1 | Epoch 10/10] Train Loss: 0.3497 | Val Loss: 0.3034 | Val Acc: 0.8160 | Val F1: 0.8184\n",
      "\n",
      "Stage 2/4: Unfreezing group 1\n",
      "[Fold 2 | Stage 2 | Epoch 1/10] Train Loss: 0.4702 | Val Loss: 0.3178 | Val Acc: 0.7680 | Val F1: 0.7577\n",
      "[Fold 2 | Stage 2 | Epoch 2/10] Train Loss: 0.4106 | Val Loss: 0.2709 | Val Acc: 0.8080 | Val F1: 0.8006\n",
      "[Fold 2 | Stage 2 | Epoch 3/10] Train Loss: 0.4171 | Val Loss: 0.2126 | Val Acc: 0.8800 | Val F1: 0.8677\n",
      "[Fold 2 | Stage 2 | Epoch 4/10] Train Loss: 0.4238 | Val Loss: 0.2992 | Val Acc: 0.7920 | Val F1: 0.7784\n",
      "[Fold 2 | Stage 2 | Epoch 5/10] Train Loss: 0.3739 | Val Loss: 0.2636 | Val Acc: 0.8560 | Val F1: 0.8507\n",
      "[Fold 2 | Stage 2 | Epoch 6/10] Train Loss: 0.4206 | Val Loss: 0.1944 | Val Acc: 0.8720 | Val F1: 0.8627\n",
      "[Fold 2 | Stage 2 | Epoch 7/10] Train Loss: 0.3358 | Val Loss: 0.2187 | Val Acc: 0.8800 | Val F1: 0.8819\n",
      "[Fold 2 | Stage 2 | Epoch 8/10] Train Loss: 0.3670 | Val Loss: 0.2309 | Val Acc: 0.8560 | Val F1: 0.8488\n",
      "[Fold 2 | Stage 2 | Epoch 9/10] Train Loss: 0.3327 | Val Loss: 0.2207 | Val Acc: 0.8560 | Val F1: 0.8543\n",
      "[Fold 2 | Stage 2 | Epoch 10/10] Train Loss: 0.4142 | Val Loss: 0.2169 | Val Acc: 0.8480 | Val F1: 0.8409\n",
      "\n",
      "Stage 3/4: Unfreezing group 2\n",
      "[Fold 2 | Stage 3 | Epoch 1/10] Train Loss: 0.3641 | Val Loss: 0.2642 | Val Acc: 0.8080 | Val F1: 0.8028\n",
      "[Fold 2 | Stage 3 | Epoch 2/10] Train Loss: 0.3139 | Val Loss: 0.2578 | Val Acc: 0.8320 | Val F1: 0.8259\n",
      "[Fold 2 | Stage 3 | Epoch 3/10] Train Loss: 0.3722 | Val Loss: 0.2356 | Val Acc: 0.8320 | Val F1: 0.8264\n",
      "[Fold 2 | Stage 3 | Epoch 4/10] Train Loss: 0.2811 | Val Loss: 0.2671 | Val Acc: 0.8080 | Val F1: 0.8014\n",
      "[Fold 2 | Stage 3 | Epoch 5/10] Train Loss: 0.3164 | Val Loss: 0.2290 | Val Acc: 0.8400 | Val F1: 0.8360\n",
      "[Fold 2 | Stage 3 | Epoch 6/10] Train Loss: 0.3881 | Val Loss: 0.1862 | Val Acc: 0.8560 | Val F1: 0.8472\n",
      "[Fold 2 | Stage 3 | Epoch 7/10] Train Loss: 0.2963 | Val Loss: 0.1618 | Val Acc: 0.8960 | Val F1: 0.8939\n",
      "[Fold 2 | Stage 3 | Epoch 8/10] Train Loss: 0.3172 | Val Loss: 0.2185 | Val Acc: 0.8640 | Val F1: 0.8593\n",
      "[Fold 2 | Stage 3 | Epoch 9/10] Train Loss: 0.2586 | Val Loss: 0.1937 | Val Acc: 0.8400 | Val F1: 0.8414\n",
      "[Fold 2 | Stage 3 | Epoch 10/10] Train Loss: 0.3101 | Val Loss: 0.2531 | Val Acc: 0.8080 | Val F1: 0.8136\n",
      "\n",
      "Stage 4/4: Unfreezing group 3\n",
      "[Fold 2 | Stage 4 | Epoch 1/10] Train Loss: 0.3547 | Val Loss: 0.1795 | Val Acc: 0.8480 | Val F1: 0.8423\n",
      "[Fold 2 | Stage 4 | Epoch 2/10] Train Loss: 0.2641 | Val Loss: 0.1984 | Val Acc: 0.8560 | Val F1: 0.8452\n",
      "[Fold 2 | Stage 4 | Epoch 3/10] Train Loss: 0.2532 | Val Loss: 0.1895 | Val Acc: 0.9200 | Val F1: 0.9205\n",
      "[Fold 2 | Stage 4 | Epoch 4/10] Train Loss: 0.2970 | Val Loss: 0.1770 | Val Acc: 0.8880 | Val F1: 0.8847\n",
      "[Fold 2 | Stage 4 | Epoch 5/10] Train Loss: 0.2683 | Val Loss: 0.1568 | Val Acc: 0.8960 | Val F1: 0.8925\n",
      "[Fold 2 | Stage 4 | Epoch 6/10] Train Loss: 0.2534 | Val Loss: 0.1762 | Val Acc: 0.9040 | Val F1: 0.8965\n",
      "[Fold 2 | Stage 4 | Epoch 7/10] Train Loss: 0.2544 | Val Loss: 0.1611 | Val Acc: 0.9040 | Val F1: 0.8980\n",
      "[Fold 2 | Stage 4 | Epoch 8/10] Train Loss: 0.2315 | Val Loss: 0.1605 | Val Acc: 0.8960 | Val F1: 0.8916\n",
      "[Fold 2 | Stage 4 | Epoch 9/10] Train Loss: 0.2449 | Val Loss: 0.1754 | Val Acc: 0.8880 | Val F1: 0.8837\n",
      "[Fold 2 | Stage 4 | Epoch 10/10] Train Loss: 0.2892 | Val Loss: 0.1707 | Val Acc: 0.8800 | Val F1: 0.8711\n",
      "Early stopping\n",
      "Fold 2 Accuracy: 0.8960, F1: 0.8925\n",
      "\n",
      "🔁 Starting Fold 3/5\n",
      "\n",
      "Stage 1/4: Unfreezing group 0\n",
      "[Fold 3 | Stage 1 | Epoch 1/10] Train Loss: 0.7839 | Val Loss: 0.6077 | Val Acc: 0.6000 | Val F1: 0.6079\n",
      "[Fold 3 | Stage 1 | Epoch 2/10] Train Loss: 0.6071 | Val Loss: 0.3636 | Val Acc: 0.7520 | Val F1: 0.7508\n",
      "[Fold 3 | Stage 1 | Epoch 3/10] Train Loss: 0.5900 | Val Loss: 0.2948 | Val Acc: 0.8000 | Val F1: 0.7904\n",
      "[Fold 3 | Stage 1 | Epoch 4/10] Train Loss: 0.5340 | Val Loss: 0.3207 | Val Acc: 0.7840 | Val F1: 0.7828\n",
      "[Fold 3 | Stage 1 | Epoch 5/10] Train Loss: 0.4291 | Val Loss: 0.2390 | Val Acc: 0.8320 | Val F1: 0.8251\n",
      "[Fold 3 | Stage 1 | Epoch 6/10] Train Loss: 0.4606 | Val Loss: 0.2453 | Val Acc: 0.8080 | Val F1: 0.7935\n",
      "[Fold 3 | Stage 1 | Epoch 7/10] Train Loss: 0.3868 | Val Loss: 0.2403 | Val Acc: 0.8080 | Val F1: 0.7977\n",
      "[Fold 3 | Stage 1 | Epoch 8/10] Train Loss: 0.4886 | Val Loss: 0.2244 | Val Acc: 0.8320 | Val F1: 0.8259\n",
      "[Fold 3 | Stage 1 | Epoch 9/10] Train Loss: 0.3678 | Val Loss: 0.2410 | Val Acc: 0.8400 | Val F1: 0.8362\n",
      "[Fold 3 | Stage 1 | Epoch 10/10] Train Loss: 0.4258 | Val Loss: 0.2254 | Val Acc: 0.8560 | Val F1: 0.8533\n",
      "\n",
      "Stage 2/4: Unfreezing group 1\n",
      "[Fold 3 | Stage 2 | Epoch 1/10] Train Loss: 0.4148 | Val Loss: 0.2667 | Val Acc: 0.8160 | Val F1: 0.8082\n",
      "[Fold 3 | Stage 2 | Epoch 2/10] Train Loss: 0.3661 | Val Loss: 0.2120 | Val Acc: 0.8240 | Val F1: 0.8013\n",
      "[Fold 3 | Stage 2 | Epoch 3/10] Train Loss: 0.3847 | Val Loss: 0.2056 | Val Acc: 0.8320 | Val F1: 0.8250\n",
      "[Fold 3 | Stage 2 | Epoch 4/10] Train Loss: 0.3547 | Val Loss: 0.2185 | Val Acc: 0.8240 | Val F1: 0.8124\n",
      "[Fold 3 | Stage 2 | Epoch 5/10] Train Loss: 0.3704 | Val Loss: 0.2398 | Val Acc: 0.8160 | Val F1: 0.8025\n",
      "[Fold 3 | Stage 2 | Epoch 6/10] Train Loss: 0.3050 | Val Loss: 0.2447 | Val Acc: 0.8080 | Val F1: 0.7888\n",
      "[Fold 3 | Stage 2 | Epoch 7/10] Train Loss: 0.3399 | Val Loss: 0.2163 | Val Acc: 0.8240 | Val F1: 0.8171\n",
      "[Fold 3 | Stage 2 | Epoch 8/10] Train Loss: 0.3899 | Val Loss: 0.2229 | Val Acc: 0.8320 | Val F1: 0.8201\n",
      "Early stopping\n",
      "\n",
      "Stage 3/4: Unfreezing group 2\n",
      "[Fold 3 | Stage 3 | Epoch 1/10] Train Loss: 0.4003 | Val Loss: 0.2216 | Val Acc: 0.8480 | Val F1: 0.8317\n",
      "[Fold 3 | Stage 3 | Epoch 2/10] Train Loss: 0.3714 | Val Loss: 0.2114 | Val Acc: 0.8400 | Val F1: 0.8299\n",
      "[Fold 3 | Stage 3 | Epoch 3/10] Train Loss: 0.3815 | Val Loss: 0.1585 | Val Acc: 0.8880 | Val F1: 0.8836\n",
      "[Fold 3 | Stage 3 | Epoch 4/10] Train Loss: 0.3052 | Val Loss: 0.1639 | Val Acc: 0.8640 | Val F1: 0.8522\n",
      "[Fold 3 | Stage 3 | Epoch 5/10] Train Loss: 0.3492 | Val Loss: 0.1654 | Val Acc: 0.9040 | Val F1: 0.8963\n",
      "[Fold 3 | Stage 3 | Epoch 6/10] Train Loss: 0.3015 | Val Loss: 0.2273 | Val Acc: 0.8480 | Val F1: 0.8424\n",
      "[Fold 3 | Stage 3 | Epoch 7/10] Train Loss: 0.2928 | Val Loss: 0.2207 | Val Acc: 0.8800 | Val F1: 0.8707\n",
      "[Fold 3 | Stage 3 | Epoch 8/10] Train Loss: 0.2981 | Val Loss: 0.2618 | Val Acc: 0.8240 | Val F1: 0.8196\n",
      "Early stopping\n",
      "\n",
      "Stage 4/4: Unfreezing group 3\n",
      "[Fold 3 | Stage 4 | Epoch 1/10] Train Loss: 0.2554 | Val Loss: 0.1879 | Val Acc: 0.8960 | Val F1: 0.8882\n",
      "[Fold 3 | Stage 4 | Epoch 2/10] Train Loss: 0.3520 | Val Loss: 0.2010 | Val Acc: 0.8480 | Val F1: 0.8450\n",
      "[Fold 3 | Stage 4 | Epoch 3/10] Train Loss: 0.3091 | Val Loss: 0.1541 | Val Acc: 0.9280 | Val F1: 0.9206\n",
      "[Fold 3 | Stage 4 | Epoch 4/10] Train Loss: 0.2711 | Val Loss: 0.1474 | Val Acc: 0.9200 | Val F1: 0.9112\n",
      "[Fold 3 | Stage 4 | Epoch 5/10] Train Loss: 0.2691 | Val Loss: 0.1516 | Val Acc: 0.9040 | Val F1: 0.8898\n",
      "[Fold 3 | Stage 4 | Epoch 6/10] Train Loss: 0.2531 | Val Loss: 0.1545 | Val Acc: 0.9040 | Val F1: 0.8956\n",
      "[Fold 3 | Stage 4 | Epoch 7/10] Train Loss: 0.2926 | Val Loss: 0.1603 | Val Acc: 0.9200 | Val F1: 0.9112\n",
      "[Fold 3 | Stage 4 | Epoch 8/10] Train Loss: 0.2530 | Val Loss: 0.1551 | Val Acc: 0.9200 | Val F1: 0.9151\n",
      "[Fold 3 | Stage 4 | Epoch 9/10] Train Loss: 0.2649 | Val Loss: 0.1592 | Val Acc: 0.9200 | Val F1: 0.9084\n",
      "Early stopping\n",
      "Fold 3 Accuracy: 0.9200, F1: 0.9112\n",
      "\n",
      "🔁 Starting Fold 4/5\n",
      "\n",
      "Stage 1/4: Unfreezing group 0\n",
      "[Fold 4 | Stage 1 | Epoch 1/10] Train Loss: 0.8818 | Val Loss: 0.4784 | Val Acc: 0.7600 | Val F1: 0.7504\n",
      "[Fold 4 | Stage 1 | Epoch 2/10] Train Loss: 0.5990 | Val Loss: 0.3289 | Val Acc: 0.8160 | Val F1: 0.8165\n",
      "[Fold 4 | Stage 1 | Epoch 3/10] Train Loss: 0.6053 | Val Loss: 0.2829 | Val Acc: 0.8160 | Val F1: 0.8101\n",
      "[Fold 4 | Stage 1 | Epoch 4/10] Train Loss: 0.4637 | Val Loss: 0.2628 | Val Acc: 0.7680 | Val F1: 0.7591\n",
      "[Fold 4 | Stage 1 | Epoch 5/10] Train Loss: 0.4342 | Val Loss: 0.2193 | Val Acc: 0.8400 | Val F1: 0.8378\n",
      "[Fold 4 | Stage 1 | Epoch 6/10] Train Loss: 0.4455 | Val Loss: 0.2235 | Val Acc: 0.8560 | Val F1: 0.8568\n",
      "[Fold 4 | Stage 1 | Epoch 7/10] Train Loss: 0.4022 | Val Loss: 0.2042 | Val Acc: 0.8400 | Val F1: 0.8315\n",
      "[Fold 4 | Stage 1 | Epoch 8/10] Train Loss: 0.4559 | Val Loss: 0.1939 | Val Acc: 0.8560 | Val F1: 0.8447\n",
      "[Fold 4 | Stage 1 | Epoch 9/10] Train Loss: 0.4237 | Val Loss: 0.2059 | Val Acc: 0.8400 | Val F1: 0.8361\n",
      "[Fold 4 | Stage 1 | Epoch 10/10] Train Loss: 0.3774 | Val Loss: 0.1909 | Val Acc: 0.8480 | Val F1: 0.8396\n",
      "\n",
      "Stage 2/4: Unfreezing group 1\n",
      "[Fold 4 | Stage 2 | Epoch 1/10] Train Loss: 0.3784 | Val Loss: 0.1768 | Val Acc: 0.8800 | Val F1: 0.8815\n",
      "[Fold 4 | Stage 2 | Epoch 2/10] Train Loss: 0.4523 | Val Loss: 0.2026 | Val Acc: 0.8960 | Val F1: 0.8870\n",
      "[Fold 4 | Stage 2 | Epoch 3/10] Train Loss: 0.4122 | Val Loss: 0.1755 | Val Acc: 0.8880 | Val F1: 0.8850\n",
      "[Fold 4 | Stage 2 | Epoch 4/10] Train Loss: 0.4302 | Val Loss: 0.1795 | Val Acc: 0.8880 | Val F1: 0.8869\n",
      "[Fold 4 | Stage 2 | Epoch 5/10] Train Loss: 0.3671 | Val Loss: 0.1776 | Val Acc: 0.8880 | Val F1: 0.8883\n",
      "[Fold 4 | Stage 2 | Epoch 6/10] Train Loss: 0.3827 | Val Loss: 0.1702 | Val Acc: 0.8640 | Val F1: 0.8636\n",
      "[Fold 4 | Stage 2 | Epoch 7/10] Train Loss: 0.3446 | Val Loss: 0.1665 | Val Acc: 0.8720 | Val F1: 0.8761\n",
      "[Fold 4 | Stage 2 | Epoch 8/10] Train Loss: 0.3142 | Val Loss: 0.1512 | Val Acc: 0.9120 | Val F1: 0.9063\n",
      "[Fold 4 | Stage 2 | Epoch 9/10] Train Loss: 0.3841 | Val Loss: 0.1566 | Val Acc: 0.8960 | Val F1: 0.8962\n",
      "[Fold 4 | Stage 2 | Epoch 10/10] Train Loss: 0.3494 | Val Loss: 0.1656 | Val Acc: 0.9040 | Val F1: 0.9016\n",
      "\n",
      "Stage 3/4: Unfreezing group 2\n",
      "[Fold 4 | Stage 3 | Epoch 1/10] Train Loss: 0.3952 | Val Loss: 0.1617 | Val Acc: 0.8720 | Val F1: 0.8650\n",
      "[Fold 4 | Stage 3 | Epoch 2/10] Train Loss: 0.3031 | Val Loss: 0.1791 | Val Acc: 0.8640 | Val F1: 0.8546\n",
      "[Fold 4 | Stage 3 | Epoch 3/10] Train Loss: 0.3541 | Val Loss: 0.1457 | Val Acc: 0.8960 | Val F1: 0.8950\n",
      "[Fold 4 | Stage 3 | Epoch 4/10] Train Loss: 0.3032 | Val Loss: 0.1552 | Val Acc: 0.8800 | Val F1: 0.8661\n",
      "[Fold 4 | Stage 3 | Epoch 5/10] Train Loss: 0.3600 | Val Loss: 0.1498 | Val Acc: 0.9280 | Val F1: 0.9215\n",
      "[Fold 4 | Stage 3 | Epoch 6/10] Train Loss: 0.3242 | Val Loss: 0.1542 | Val Acc: 0.9040 | Val F1: 0.8991\n",
      "[Fold 4 | Stage 3 | Epoch 7/10] Train Loss: 0.2828 | Val Loss: 0.1503 | Val Acc: 0.9040 | Val F1: 0.9004\n",
      "[Fold 4 | Stage 3 | Epoch 8/10] Train Loss: 0.2780 | Val Loss: 0.1668 | Val Acc: 0.8960 | Val F1: 0.8906\n",
      "Early stopping\n",
      "\n",
      "Stage 4/4: Unfreezing group 3\n",
      "[Fold 4 | Stage 4 | Epoch 1/10] Train Loss: 0.3497 | Val Loss: 0.1862 | Val Acc: 0.8720 | Val F1: 0.8599\n",
      "[Fold 4 | Stage 4 | Epoch 2/10] Train Loss: 0.2685 | Val Loss: 0.1598 | Val Acc: 0.8960 | Val F1: 0.9005\n",
      "[Fold 4 | Stage 4 | Epoch 3/10] Train Loss: 0.2836 | Val Loss: 0.1734 | Val Acc: 0.8880 | Val F1: 0.8902\n",
      "[Fold 4 | Stage 4 | Epoch 4/10] Train Loss: 0.2822 | Val Loss: 0.1416 | Val Acc: 0.9040 | Val F1: 0.9056\n",
      "[Fold 4 | Stage 4 | Epoch 5/10] Train Loss: 0.3171 | Val Loss: 0.1276 | Val Acc: 0.8960 | Val F1: 0.8926\n",
      "[Fold 4 | Stage 4 | Epoch 6/10] Train Loss: 0.2658 | Val Loss: 0.1459 | Val Acc: 0.9040 | Val F1: 0.9031\n",
      "[Fold 4 | Stage 4 | Epoch 7/10] Train Loss: 0.2665 | Val Loss: 0.1481 | Val Acc: 0.8960 | Val F1: 0.8929\n",
      "[Fold 4 | Stage 4 | Epoch 8/10] Train Loss: 0.2753 | Val Loss: 0.1422 | Val Acc: 0.9200 | Val F1: 0.9169\n",
      "[Fold 4 | Stage 4 | Epoch 9/10] Train Loss: 0.2609 | Val Loss: 0.1470 | Val Acc: 0.8960 | Val F1: 0.8922\n",
      "[Fold 4 | Stage 4 | Epoch 10/10] Train Loss: 0.3054 | Val Loss: 0.1276 | Val Acc: 0.9040 | Val F1: 0.9024\n",
      "Early stopping\n",
      "Fold 4 Accuracy: 0.8960, F1: 0.8926\n",
      "\n",
      "🔁 Starting Fold 5/5\n",
      "\n",
      "Stage 1/4: Unfreezing group 0\n",
      "[Fold 5 | Stage 1 | Epoch 1/10] Train Loss: 0.8333 | Val Loss: 0.6225 | Val Acc: 0.6400 | Val F1: 0.6315\n",
      "[Fold 5 | Stage 1 | Epoch 2/10] Train Loss: 0.5998 | Val Loss: 0.3751 | Val Acc: 0.7440 | Val F1: 0.7512\n",
      "[Fold 5 | Stage 1 | Epoch 3/10] Train Loss: 0.5947 | Val Loss: 0.2671 | Val Acc: 0.8240 | Val F1: 0.8233\n",
      "[Fold 5 | Stage 1 | Epoch 4/10] Train Loss: 0.4817 | Val Loss: 0.2493 | Val Acc: 0.8560 | Val F1: 0.8590\n",
      "[Fold 5 | Stage 1 | Epoch 5/10] Train Loss: 0.4694 | Val Loss: 0.2486 | Val Acc: 0.8480 | Val F1: 0.8382\n",
      "[Fold 5 | Stage 1 | Epoch 6/10] Train Loss: 0.4215 | Val Loss: 0.2498 | Val Acc: 0.8320 | Val F1: 0.8384\n",
      "[Fold 5 | Stage 1 | Epoch 7/10] Train Loss: 0.4168 | Val Loss: 0.2658 | Val Acc: 0.8160 | Val F1: 0.8182\n",
      "[Fold 5 | Stage 1 | Epoch 8/10] Train Loss: 0.4164 | Val Loss: 0.2249 | Val Acc: 0.8560 | Val F1: 0.8630\n",
      "[Fold 5 | Stage 1 | Epoch 9/10] Train Loss: 0.4120 | Val Loss: 0.2177 | Val Acc: 0.8560 | Val F1: 0.8583\n",
      "[Fold 5 | Stage 1 | Epoch 10/10] Train Loss: 0.4253 | Val Loss: 0.2540 | Val Acc: 0.8400 | Val F1: 0.8417\n",
      "\n",
      "Stage 2/4: Unfreezing group 1\n",
      "[Fold 5 | Stage 2 | Epoch 1/10] Train Loss: 0.3657 | Val Loss: 0.2519 | Val Acc: 0.8320 | Val F1: 0.8280\n",
      "[Fold 5 | Stage 2 | Epoch 2/10] Train Loss: 0.4064 | Val Loss: 0.2547 | Val Acc: 0.8400 | Val F1: 0.8281\n",
      "[Fold 5 | Stage 2 | Epoch 3/10] Train Loss: 0.4569 | Val Loss: 0.2909 | Val Acc: 0.8480 | Val F1: 0.8424\n",
      "[Fold 5 | Stage 2 | Epoch 4/10] Train Loss: 0.4168 | Val Loss: 0.2522 | Val Acc: 0.8720 | Val F1: 0.8670\n",
      "[Fold 5 | Stage 2 | Epoch 5/10] Train Loss: 0.3772 | Val Loss: 0.2417 | Val Acc: 0.8720 | Val F1: 0.8698\n",
      "[Fold 5 | Stage 2 | Epoch 6/10] Train Loss: 0.3907 | Val Loss: 0.2277 | Val Acc: 0.8800 | Val F1: 0.8742\n",
      "[Fold 5 | Stage 2 | Epoch 7/10] Train Loss: 0.3405 | Val Loss: 0.2578 | Val Acc: 0.8560 | Val F1: 0.8534\n",
      "[Fold 5 | Stage 2 | Epoch 8/10] Train Loss: 0.3228 | Val Loss: 0.2442 | Val Acc: 0.8560 | Val F1: 0.8512\n",
      "[Fold 5 | Stage 2 | Epoch 9/10] Train Loss: 0.4040 | Val Loss: 0.2443 | Val Acc: 0.8640 | Val F1: 0.8617\n",
      "[Fold 5 | Stage 2 | Epoch 10/10] Train Loss: 0.3388 | Val Loss: 0.2334 | Val Acc: 0.8480 | Val F1: 0.8429\n",
      "\n",
      "Stage 3/4: Unfreezing group 2\n",
      "[Fold 5 | Stage 3 | Epoch 1/10] Train Loss: 0.3809 | Val Loss: 0.3047 | Val Acc: 0.8240 | Val F1: 0.8167\n",
      "[Fold 5 | Stage 3 | Epoch 2/10] Train Loss: 0.3718 | Val Loss: 0.2473 | Val Acc: 0.8560 | Val F1: 0.8516\n",
      "[Fold 5 | Stage 3 | Epoch 3/10] Train Loss: 0.3984 | Val Loss: 0.2679 | Val Acc: 0.7920 | Val F1: 0.7886\n",
      "[Fold 5 | Stage 3 | Epoch 4/10] Train Loss: 0.3732 | Val Loss: 0.2487 | Val Acc: 0.8640 | Val F1: 0.8569\n",
      "[Fold 5 | Stage 3 | Epoch 5/10] Train Loss: 0.3701 | Val Loss: 0.2433 | Val Acc: 0.8240 | Val F1: 0.8054\n",
      "[Fold 5 | Stage 3 | Epoch 6/10] Train Loss: 0.2970 | Val Loss: 0.2551 | Val Acc: 0.8000 | Val F1: 0.7910\n",
      "[Fold 5 | Stage 3 | Epoch 7/10] Train Loss: 0.3400 | Val Loss: 0.2481 | Val Acc: 0.8480 | Val F1: 0.8411\n",
      "[Fold 5 | Stage 3 | Epoch 8/10] Train Loss: 0.3221 | Val Loss: 0.2546 | Val Acc: 0.8080 | Val F1: 0.7935\n",
      "[Fold 5 | Stage 3 | Epoch 9/10] Train Loss: 0.3720 | Val Loss: 0.2514 | Val Acc: 0.8400 | Val F1: 0.8359\n",
      "[Fold 5 | Stage 3 | Epoch 10/10] Train Loss: 0.3246 | Val Loss: 0.2847 | Val Acc: 0.8080 | Val F1: 0.7967\n",
      "Early stopping\n",
      "\n",
      "Stage 4/4: Unfreezing group 3\n",
      "[Fold 5 | Stage 4 | Epoch 1/10] Train Loss: 0.3275 | Val Loss: 0.2308 | Val Acc: 0.8400 | Val F1: 0.8326\n",
      "[Fold 5 | Stage 4 | Epoch 2/10] Train Loss: 0.3253 | Val Loss: 0.2237 | Val Acc: 0.8480 | Val F1: 0.8463\n",
      "[Fold 5 | Stage 4 | Epoch 3/10] Train Loss: 0.2934 | Val Loss: 0.2379 | Val Acc: 0.8400 | Val F1: 0.8369\n",
      "[Fold 5 | Stage 4 | Epoch 4/10] Train Loss: 0.2918 | Val Loss: 0.1885 | Val Acc: 0.9040 | Val F1: 0.8927\n",
      "[Fold 5 | Stage 4 | Epoch 5/10] Train Loss: 0.2979 | Val Loss: 0.1876 | Val Acc: 0.8720 | Val F1: 0.8671\n",
      "[Fold 5 | Stage 4 | Epoch 6/10] Train Loss: 0.3083 | Val Loss: 0.1957 | Val Acc: 0.8800 | Val F1: 0.8767\n",
      "[Fold 5 | Stage 4 | Epoch 7/10] Train Loss: 0.2492 | Val Loss: 0.1929 | Val Acc: 0.9040 | Val F1: 0.8977\n",
      "[Fold 5 | Stage 4 | Epoch 8/10] Train Loss: 0.2797 | Val Loss: 0.1787 | Val Acc: 0.9040 | Val F1: 0.8999\n",
      "[Fold 5 | Stage 4 | Epoch 9/10] Train Loss: 0.2890 | Val Loss: 0.1849 | Val Acc: 0.8880 | Val F1: 0.8842\n",
      "[Fold 5 | Stage 4 | Epoch 10/10] Train Loss: 0.2416 | Val Loss: 0.1948 | Val Acc: 0.8720 | Val F1: 0.8672\n",
      "Fold 5 Accuracy: 0.9040, F1: 0.8999\n",
      "\n",
      "Summary:\n",
      "Fold 1 - Accuracy: 0.9440, F1: 0.9452\n",
      "Fold 2 - Accuracy: 0.8960, F1: 0.8925\n",
      "Fold 3 - Accuracy: 0.9200, F1: 0.9112\n",
      "Fold 4 - Accuracy: 0.8960, F1: 0.8926\n",
      "Fold 5 - Accuracy: 0.9040, F1: 0.8999\n",
      "\n",
      "Avg Accuracy: 0.9120 | Avg F1: 0.9083\n",
      "CPU times: user 57min 37s, sys: 1min 28s, total: 59min 5s\n",
      "Wall time: 43min 22s\n"
     ]
    }
   ],
   "source": [
    "%%time\n",
    "dataset = datasets.ImageFolder(train_dir)\n",
    "train_top_down(WoundClassifier, dataset, num_classes=len(dataset.classes))"
   ]
  },
  {
   "cell_type": "code",
   "execution_count": 18,
   "id": "745522c7",
   "metadata": {
    "execution": {
     "iopub.execute_input": "2025-06-10T06:48:00.106337Z",
     "iopub.status.busy": "2025-06-10T06:48:00.105897Z",
     "iopub.status.idle": "2025-06-10T06:48:01.942271Z",
     "shell.execute_reply": "2025-06-10T06:48:01.941686Z"
    },
    "papermill": {
     "duration": 1.851527,
     "end_time": "2025-06-10T06:48:01.943907",
     "exception": false,
     "start_time": "2025-06-10T06:48:00.092380",
     "status": "completed"
    },
    "tags": []
   },
   "outputs": [],
   "source": [
    "from sklearn.metrics import classification_report, confusion_matrix, f1_score\n",
    "import seaborn as sns\n",
    "import matplotlib.pyplot as plt\n",
    "import numpy as np\n",
    "import torch\n",
    "\n",
    "def evaluate_model(model, dataloader, class_names=None, device='cuda'):\n",
    "    model.eval()\n",
    "    all_preds = []\n",
    "    all_targets = []\n",
    "\n",
    "    with torch.no_grad():\n",
    "        for inputs, targets in dataloader:\n",
    "            inputs, targets = inputs.to(device), targets.to(device)\n",
    "            outputs = model(inputs)\n",
    "            if isinstance(outputs, tuple):\n",
    "                outputs = outputs[0]\n",
    "            preds = torch.argmax(outputs, dim=1)\n",
    "            all_preds.extend(preds.cpu().numpy())\n",
    "            all_targets.extend(targets.cpu().numpy())\n",
    "\n",
    "    all_preds = np.array(all_preds)\n",
    "    all_targets = np.array(all_targets)\n",
    "\n",
    "    print(\"\\nClassification Report:\")\n",
    "    print(classification_report(\n",
    "        all_targets, all_preds,\n",
    "        target_names=class_names,\n",
    "        zero_division=0  # 👈 Avoid warning when a class has no predicted samples\n",
    "    ))\n",
    "\n",
    "    cm = confusion_matrix(all_targets, all_preds)\n",
    "    plt.figure(figsize=(8, 6))\n",
    "    sns.heatmap(cm, annot=True, fmt='d', cmap='Blues',\n",
    "                xticklabels=class_names, yticklabels=class_names)\n",
    "    plt.xlabel('Predicted')\n",
    "    plt.ylabel('True')\n",
    "    plt.title('Confusion Matrix')\n",
    "    plt.show()\n",
    "\n",
    "    per_class_acc = cm.diagonal() / cm.sum(axis=1)\n",
    "    for idx, acc in enumerate(per_class_acc):\n",
    "        name = class_names[idx] if class_names else str(idx)\n",
    "        print(f\"Accuracy for class '{name}': {acc:.2%}\")\n",
    "\n",
    "    return {\n",
    "        'accuracy': np.mean(all_preds == all_targets),\n",
    "        'f1_macro': f1_score(all_targets, all_preds, average='macro', zero_division=0),\n",
    "        'per_class_accuracy': per_class_acc\n",
    "    }"
   ]
  },
  {
   "cell_type": "code",
   "execution_count": 19,
   "id": "1c5a5a34",
   "metadata": {
    "execution": {
     "iopub.execute_input": "2025-06-10T06:48:01.971097Z",
     "iopub.status.busy": "2025-06-10T06:48:01.970746Z",
     "iopub.status.idle": "2025-06-10T06:48:01.976760Z",
     "shell.execute_reply": "2025-06-10T06:48:01.976035Z"
    },
    "papermill": {
     "duration": 0.020411,
     "end_time": "2025-06-10T06:48:01.977974",
     "exception": false,
     "start_time": "2025-06-10T06:48:01.957563",
     "status": "completed"
    },
    "tags": []
   },
   "outputs": [],
   "source": [
    "def evaluate_all_folds(model_class, test_dataset, stages=4, device='cuda'):\n",
    "    class_names = test_dataset.classes\n",
    "    test_loader = DataLoader(test_dataset, batch_size=32, shuffle=False)\n",
    "    metrics_all = []\n",
    "\n",
    "    for fold_idx in range(5):\n",
    "        print(f\"\\n============================\")\n",
    "        print(f\"Evaluating Fold {fold_idx + 1} on Full Test Set\")\n",
    "        print(f\"============================\")\n",
    "\n",
    "        model = model_class(num_classes=len(class_names)).to(device)\n",
    "        model.load_state_dict(torch.load(f'topdown_model_fold{fold_idx}_stage{stages - 1}.pt'))\n",
    "        model.eval()\n",
    "\n",
    "        fold_metrics = evaluate_model(model, test_loader, class_names=class_names, device=device)\n",
    "        metrics_all.append(fold_metrics)\n",
    "\n",
    "        print(f\"Fold {fold_idx + 1} Accuracy: {fold_metrics['accuracy']:.4f}\")\n",
    "\n",
    "    # Summary\n",
    "    avg_acc = np.mean([m['accuracy'] for m in metrics_all])\n",
    "    avg_f1 = np.mean([m['f1_macro'] for m in metrics_all])\n",
    "    print(f\"\\nAvg Accuracy: {avg_acc:.4f} | Avg F1 Score: {avg_f1:.4f}\")\n",
    "\n",
    "    return metrics_all\n"
   ]
  },
  {
   "cell_type": "code",
   "execution_count": 20,
   "id": "63e9c003",
   "metadata": {
    "execution": {
     "iopub.execute_input": "2025-06-10T06:48:02.004183Z",
     "iopub.status.busy": "2025-06-10T06:48:02.003520Z",
     "iopub.status.idle": "2025-06-10T06:48:30.382871Z",
     "shell.execute_reply": "2025-06-10T06:48:30.382292Z"
    },
    "papermill": {
     "duration": 28.393508,
     "end_time": "2025-06-10T06:48:30.384074",
     "exception": false,
     "start_time": "2025-06-10T06:48:01.990566",
     "status": "completed"
    },
    "tags": []
   },
   "outputs": [
    {
     "name": "stdout",
     "output_type": "stream",
     "text": [
      "\n",
      "============================\n",
      "Evaluating Fold 1 on Full Test Set\n",
      "============================\n",
      "\n",
      "Classification Report:\n",
      "              precision    recall  f1-score   support\n",
      "\n",
      "   Abrasions       0.77      0.92      0.84        26\n",
      "     Bruises       0.97      0.89      0.93        37\n",
      "       Burns       0.91      0.95      0.93        21\n",
      "         Cut       0.73      0.73      0.73        15\n",
      "      Normal       1.00      0.90      0.95        30\n",
      "\n",
      "    accuracy                           0.89       129\n",
      "   macro avg       0.88      0.88      0.88       129\n",
      "weighted avg       0.90      0.89      0.89       129\n",
      "\n"
     ]
    },
    {
     "data": {
      "image/png": "[encoded data removed]",
      "text/plain": [
       "<Figure size 800x600 with 2 Axes>"
      ]
     },
     "metadata": {},
     "output_type": "display_data"
    },
    {
     "name": "stdout",
     "output_type": "stream",
     "text": [
      "Accuracy for class 'Abrasions': 92.31%\n",
      "Accuracy for class 'Bruises': 89.19%\n",
      "Accuracy for class 'Burns': 95.24%\n",
      "Accuracy for class 'Cut': 73.33%\n",
      "Accuracy for class 'Normal': 90.00%\n",
      "Fold 1 Accuracy: 0.8915\n",
      "\n",
      "============================\n",
      "Evaluating Fold 2 on Full Test Set\n",
      "============================\n",
      "\n",
      "Classification Report:\n",
      "              precision    recall  f1-score   support\n",
      "\n",
      "   Abrasions       0.77      0.92      0.84        26\n",
      "     Bruises       0.97      0.84      0.90        37\n",
      "       Burns       0.90      0.90      0.90        21\n",
      "         Cut       0.88      0.93      0.90        15\n",
      "      Normal       0.93      0.90      0.92        30\n",
      "\n",
      "    accuracy                           0.89       129\n",
      "   macro avg       0.89      0.90      0.89       129\n",
      "weighted avg       0.90      0.89      0.89       129\n",
      "\n"
     ]
    },
    {
     "data": {
      "image/png": "[encoded data removed]",
      "text/plain": [
       "<Figure size 800x600 with 2 Axes>"
      ]
     },
     "metadata": {},
     "output_type": "display_data"
    },
    {
     "name": "stdout",
     "output_type": "stream",
     "text": [
      "Accuracy for class 'Abrasions': 92.31%\n",
      "Accuracy for class 'Bruises': 83.78%\n",
      "Accuracy for class 'Burns': 90.48%\n",
      "Accuracy for class 'Cut': 93.33%\n",
      "Accuracy for class 'Normal': 90.00%\n",
      "Fold 2 Accuracy: 0.8915\n",
      "\n",
      "============================\n",
      "Evaluating Fold 3 on Full Test Set\n",
      "============================\n",
      "\n",
      "Classification Report:\n",
      "              precision    recall  f1-score   support\n",
      "\n",
      "   Abrasions       0.80      0.92      0.86        26\n",
      "     Bruises       0.95      0.95      0.95        37\n",
      "       Burns       0.95      0.86      0.90        21\n",
      "         Cut       0.79      0.73      0.76        15\n",
      "      Normal       1.00      0.97      0.98        30\n",
      "\n",
      "    accuracy                           0.91       129\n",
      "   macro avg       0.90      0.89      0.89       129\n",
      "weighted avg       0.91      0.91      0.91       129\n",
      "\n"
     ]
    },
    {
     "data": {
      "image/png": "[encoded data removed]",
      "text/plain": [
       "<Figure size 800x600 with 2 Axes>"
      ]
     },
     "metadata": {},
     "output_type": "display_data"
    },
    {
     "name": "stdout",
     "output_type": "stream",
     "text": [
      "Accuracy for class 'Abrasions': 92.31%\n",
      "Accuracy for class 'Bruises': 94.59%\n",
      "Accuracy for class 'Burns': 85.71%\n",
      "Accuracy for class 'Cut': 73.33%\n",
      "Accuracy for class 'Normal': 96.67%\n",
      "Fold 3 Accuracy: 0.9070\n",
      "\n",
      "============================\n",
      "Evaluating Fold 4 on Full Test Set\n",
      "============================\n",
      "\n",
      "Classification Report:\n",
      "              precision    recall  f1-score   support\n",
      "\n",
      "   Abrasions       0.72      1.00      0.84        26\n",
      "     Bruises       0.97      0.86      0.91        37\n",
      "       Burns       0.90      0.90      0.90        21\n",
      "         Cut       1.00      0.67      0.80        15\n",
      "      Normal       1.00      0.97      0.98        30\n",
      "\n",
      "    accuracy                           0.90       129\n",
      "   macro avg       0.92      0.88      0.89       129\n",
      "weighted avg       0.92      0.90      0.90       129\n",
      "\n"
     ]
    },
    {
     "data": {
      "image/png": "[encoded data removed]",
      "text/plain": [
       "<Figure size 800x600 with 2 Axes>"
      ]
     },
     "metadata": {},
     "output_type": "display_data"
    },
    {
     "name": "stdout",
     "output_type": "stream",
     "text": [
      "Accuracy for class 'Abrasions': 100.00%\n",
      "Accuracy for class 'Bruises': 86.49%\n",
      "Accuracy for class 'Burns': 90.48%\n",
      "Accuracy for class 'Cut': 66.67%\n",
      "Accuracy for class 'Normal': 96.67%\n",
      "Fold 4 Accuracy: 0.8992\n",
      "\n",
      "============================\n",
      "Evaluating Fold 5 on Full Test Set\n",
      "============================\n",
      "\n",
      "Classification Report:\n",
      "              precision    recall  f1-score   support\n",
      "\n",
      "   Abrasions       0.73      0.92      0.81        26\n",
      "     Bruises       0.97      0.81      0.88        37\n",
      "       Burns       1.00      0.95      0.98        21\n",
      "         Cut       0.88      0.93      0.90        15\n",
      "      Normal       1.00      0.97      0.98        30\n",
      "\n",
      "    accuracy                           0.91       129\n",
      "   macro avg       0.91      0.92      0.91       129\n",
      "weighted avg       0.92      0.91      0.91       129\n",
      "\n"
     ]
    },
    {
     "data": {
      "image/png": "[encoded data removed]",
      "text/plain": [
       "<Figure size 800x600 with 2 Axes>"
      ]
     },
     "metadata": {},
     "output_type": "display_data"
    },
    {
     "name": "stdout",
     "output_type": "stream",
     "text": [
      "Accuracy for class 'Abrasions': 92.31%\n",
      "Accuracy for class 'Bruises': 81.08%\n",
      "Accuracy for class 'Burns': 95.24%\n",
      "Accuracy for class 'Cut': 93.33%\n",
      "Accuracy for class 'Normal': 96.67%\n",
      "Fold 5 Accuracy: 0.9070\n",
      "\n",
      "Avg Accuracy: 0.8992 | Avg F1 Score: 0.8916\n"
     ]
    },
    {
     "data": {
      "text/plain": [
       "[{'accuracy': 0.8914728682170543,\n",
       "  'f1_macro': 0.8765234080944253,\n",
       "  'per_class_accuracy': array([0.92307692, 0.89189189, 0.95238095, 0.73333333, 0.9       ])},\n",
       " {'accuracy': 0.8914728682170543,\n",
       "  'f1_macro': 0.8927795872594458,\n",
       "  'per_class_accuracy': array([0.92307692, 0.83783784, 0.9047619 , 0.93333333, 0.9       ])},\n",
       " {'accuracy': 0.9069767441860465,\n",
       "  'f1_macro': 0.8889520680403205,\n",
       "  'per_class_accuracy': array([0.92307692, 0.94594595, 0.85714286, 0.73333333, 0.96666667])},\n",
       " {'accuracy': 0.8992248062015504,\n",
       "  'f1_macro': 0.8881616287849201,\n",
       "  'per_class_accuracy': array([1.        , 0.86486486, 0.9047619 , 0.66666667, 0.96666667])},\n",
       " {'accuracy': 0.9069767441860465,\n",
       "  'f1_macro': 0.911559734643434,\n",
       "  'per_class_accuracy': array([0.92307692, 0.81081081, 0.95238095, 0.93333333, 0.96666667])}]"
      ]
     },
     "execution_count": 20,
     "metadata": {},
     "output_type": "execute_result"
    }
   ],
   "source": [
    "test_dataset = datasets.ImageFolder(test_dir, transform=val_tf)\n",
    "evaluate_all_folds(WoundClassifier, test_dataset, device='cuda')"
   ]
  },
  {
   "cell_type": "code",
   "execution_count": null,
   "id": "c09a236b",
   "metadata": {
    "papermill": {
     "duration": 0.016247,
     "end_time": "2025-06-10T06:48:30.417676",
     "exception": false,
     "start_time": "2025-06-10T06:48:30.401429",
     "status": "completed"
    },
    "tags": []
   },
   "outputs": [],
   "source": []
  }
 ],
 "metadata": {
  "kaggle": {
   "accelerator": "nvidiaTeslaT4",
   "dataSources": [
    {
     "datasetId": 4124555,
     "sourceId": 7200157,
     "sourceType": "datasetVersion"
    }
   ],
   "dockerImageVersionId": 31041,
   "isGpuEnabled": true,
   "isInternetEnabled": true,
   "language": "python",
   "sourceType": "notebook"
  },
  "kernelspec": {
   "display_name": "Python 3",
   "language": "python",
   "name": "python3"
  },
  "language_info": {
   "codemirror_mode": {
    "name": "ipython",
    "version": 3
   },
   "file_extension": ".py",
   "mimetype": "text/x-python",
   "name": "python",
   "nbconvert_exporter": "python",
   "pygments_lexer": "ipython3",
   "version": "3.11.11"
  },
  "papermill": {
   "default_parameters": {},
   "duration": 2669.209159,
   "end_time": "2025-06-10T06:48:33.751557",
   "environment_variables": {},
   "exception": null,
   "input_path": "__notebook__.ipynb",
   "output_path": "__notebook__.ipynb",
   "parameters": {},
   "start_time": "2025-06-10T06:04:04.542398",
   "version": "2.6.0"
  }
 },
 "nbformat": 4,
 "nbformat_minor": 5
}
