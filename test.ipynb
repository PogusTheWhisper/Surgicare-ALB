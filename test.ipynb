{
 "cells": [
  {
   "cell_type": "code",
   "execution_count": null,
   "metadata": {},
   "outputs": [],
   "source": [
    "from utils.extract_wound_class import CachedWoundClassifier\n",
    "\n",
    "classifier = CachedWoundClassifier()\n",
    "label, probabilities = classifier.predict(\"careful_this_contain_wound_image/test/Normal/2.jpg\")\n",
    "print(f\"Predicted: {label}\")"
   ]
  },
  {
   "cell_type": "code",
   "execution_count": null,
   "metadata": {},
   "outputs": [],
   "source": [
    "from utils.extract_wound_features import CLIPWoundFeatureExtractor\n",
    "from utils.extract_wound_class import CachedWoundClassifier\n",
    "\n",
    "extractor = CLIPWoundFeatureExtractor()\n",
    "classifier = CachedWoundClassifier()\n",
    "image_path = 'careful_this_contain_wound_image/Burns/burns (20).jpg'\n",
    "wound_class, probabilities = classifier.predict(image_path)\n",
    "\n",
    "features = extractor.extract_features(image_path, wound_class, lang='th')\n",
    "\n",
    "print(f\"\\nTop features for wound class: {wound_class}\")\n",
    "for desc, score in features:\n",
    "    print(f\"{desc}: {score:.4f}\")"
   ]
  },
  {
   "cell_type": "code",
   "execution_count": null,
   "metadata": {},
   "outputs": [],
   "source": [
    "import torch\n",
    "import torch.nn as nn\n",
    "from torchvision.models import efficientnet_v2_l, EfficientNet_V2_L_Weights\n",
    "\n",
    "class WoundClassifier(nn.Module):\n",
    "    def __init__(self, num_classes=5, dropout=0.4):\n",
    "        super().__init__()\n",
    "        base = efficientnet_v2_l(weights=EfficientNet_V2_L_Weights.DEFAULT)\n",
    "        n_features = base.classifier[1].in_features\n",
    "        base.classifier = nn.Identity()\n",
    "        self.backbone = base\n",
    "        self.shared_head = nn.Sequential(\n",
    "            nn.Linear(n_features, 512),\n",
    "            nn.GELU(),\n",
    "            nn.BatchNorm1d(512),\n",
    "            nn.Dropout(dropout)\n",
    "        )\n",
    "        self.class_head = nn.Sequential(\n",
    "            nn.Linear(512, 256),\n",
    "            nn.GELU(),\n",
    "            nn.BatchNorm1d(256),\n",
    "            nn.Dropout(dropout),\n",
    "            nn.Linear(256, num_classes)\n",
    "        )\n",
    "        self.layer_groups = [\n",
    "            self.backbone.features[0:2],\n",
    "            self.backbone.features[2:4],\n",
    "            self.backbone.features[4:6],\n",
    "            self.backbone.features[6:]\n",
    "        ]\n",
    "\n",
    "    def forward(self, x):\n",
    "        x = self.backbone(x)\n",
    "        x = self.shared_head(x)\n",
    "        return self.class_head(x)\n",
    "\n",
    "model = WoundClassifier(num_classes=5, dropout=0.4)\n",
    "checkpoint = torch.load(\"topdown_model_fold4_stage3.pt\", map_location=\"cpu\")\n",
    "model.load_state_dict(checkpoint)\n",
    "model.eval()\n",
    "\n",
    "dummy_input = torch.randn(1, 3, 224, 224)\n",
    "\n",
    "torch.onnx.export(\n",
    "    model,\n",
    "    dummy_input,\n",
    "    \"topdown_model_fold4_stage3_opset_20.onnx\",\n",
    "    export_params=True,\n",
    "    opset_version=20,\n",
    "    do_constant_folding=True,\n",
    "    input_names=[\"image\"],\n",
    "    output_names=[\"logits\"],\n",
    "    dynamic_axes={\n",
    "        \"image\": {0: \"batch_size\"},\n",
    "        \"logits\": {0: \"batch_size\"}\n",
    "    }\n",
    ")\n",
    "\n",
    "print(\"Exported WoundClassifier to topdown_model_fold4_stage3_opset_20.onnx\")"
   ]
  },
  {
   "cell_type": "code",
   "execution_count": null,
   "metadata": {},
   "outputs": [],
   "source": []
  }
 ],
 "metadata": {
  "kernelspec": {
   "display_name": ".venv",
   "language": "python",
   "name": "python3"
  },
  "language_info": {
   "codemirror_mode": {
    "name": "ipython",
    "version": 3
   },
   "file_extension": ".py",
   "mimetype": "text/x-python",
   "name": "python",
   "nbconvert_exporter": "python",
   "pygments_lexer": "ipython3",
   "version": "3.10.5"
  }
 },
 "nbformat": 4,
 "nbformat_minor": 2
}
