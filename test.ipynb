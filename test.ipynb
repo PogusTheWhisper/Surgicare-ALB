{
 "cells": [
  {
   "cell_type": "code",
   "execution_count": 2,
   "id": "4dce330d",
   "metadata": {},
   "outputs": [
    {
     "name": "stderr",
     "output_type": "stream",
     "text": [
      "/Users/pogus-mac/Documents/Project-VScode/alb1/.venv/lib/python3.11/site-packages/tqdm/auto.py:21: TqdmWarning: IProgress not found. Please update jupyter and ipywidgets. See https://ipywidgets.readthedocs.io/en/stable/user_install.html\n",
      "  from .autonotebook import tqdm as notebook_tqdm\n"
     ]
    }
   ],
   "source": [
    "from huggingface_hub import hf_hub_download"
   ]
  },
  {
   "cell_type": "code",
   "execution_count": 3,
   "id": "e85abe26",
   "metadata": {},
   "outputs": [],
   "source": [
    "DIS_MODEL_PATH = hf_hub_download(\n",
    "    repo_id=\"stoned0651/isnet_dis.onnx\",\n",
    "    filename=\"isnet_dis.onnx\"\n",
    ")"
   ]
  },
  {
   "cell_type": "code",
   "execution_count": 10,
   "id": "914d793a",
   "metadata": {},
   "outputs": [],
   "source": [
    "from dis_bg_remover import remove_background\n",
    "\n",
    "extracted_img, mask = remove_background(DIS_MODEL_PATH,\"mountain.png\")\n",
    "\n",
    "# extracted_img contains the BGRA image with the background removed.\n",
    "# mask contains the background mask."
   ]
  },
  {
   "cell_type": "code",
   "execution_count": 9,
   "id": "959f3541",
   "metadata": {},
   "outputs": [
    {
     "data": {
      "text/plain": [
       "array([[[226., 193., 150.,   1.],\n",
       "        [224., 188., 146.,   1.],\n",
       "        [224., 188., 146.,   0.],\n",
       "        ...,\n",
       "        [227., 194., 152.,   0.],\n",
       "        [227., 194., 152.,   1.],\n",
       "        [229., 198., 160.,   1.]],\n",
       "\n",
       "       [[223., 183., 137.,   0.],\n",
       "        [223., 183., 137.,   0.],\n",
       "        [223., 183., 137.,   0.],\n",
       "        ...,\n",
       "        [226., 190., 147.,   0.],\n",
       "        [226., 190., 147.,   0.],\n",
       "        [226., 190., 147.,   1.]],\n",
       "\n",
       "       [[224., 188., 146.,   0.],\n",
       "        [223., 183., 137.,   0.],\n",
       "        [223., 183., 137.,   0.],\n",
       "        ...,\n",
       "        [224., 188., 146.,   0.],\n",
       "        [227., 189., 143.,   0.],\n",
       "        [226., 195., 153.,   0.]],\n",
       "\n",
       "       ...,\n",
       "\n",
       "       [[ 44.,  36.,  24.,   0.],\n",
       "        [ 22.,  19.,  10.,   0.],\n",
       "        [ 18.,  16.,   7.,   0.],\n",
       "        ...,\n",
       "        [  9.,   6.,   1.,   0.],\n",
       "        [  9.,   6.,   1.,   0.],\n",
       "        [ 33.,  34.,  26.,   0.]],\n",
       "\n",
       "       [[ 35.,  32.,  19.,   2.],\n",
       "        [ 31.,  22.,  11.,   1.],\n",
       "        [ 31.,  22.,  11.,   0.],\n",
       "        ...,\n",
       "        [  9.,   6.,   1.,   0.],\n",
       "        [  9.,   6.,   1.,   1.],\n",
       "        [ 14.,  11.,   4.,   1.]],\n",
       "\n",
       "       [[ 59.,  54.,  40.,   4.],\n",
       "        [ 44.,  36.,  24.,   2.],\n",
       "        [ 44.,  36.,  24.,   0.],\n",
       "        ...,\n",
       "        [ 24.,  24.,  15.,   0.],\n",
       "        [ 24.,  24.,  15.,   1.],\n",
       "        [ 48.,  45.,  34.,   2.]]], shape=(1024, 1024, 4), dtype=float32)"
      ]
     },
     "execution_count": 9,
     "metadata": {},
     "output_type": "execute_result"
    }
   ],
   "source": [
    "extracted_img"
   ]
  },
  {
   "cell_type": "code",
   "execution_count": null,
   "id": "8d2d6ba8",
   "metadata": {},
   "outputs": [],
   "source": []
  }
 ],
 "metadata": {
  "kernelspec": {
   "display_name": ".venv",
   "language": "python",
   "name": "python3"
  },
  "language_info": {
   "codemirror_mode": {
    "name": "ipython",
    "version": 3
   },
   "file_extension": ".py",
   "mimetype": "text/x-python",
   "name": "python",
   "nbconvert_exporter": "python",
   "pygments_lexer": "ipython3",
   "version": "3.11.11"
  }
 },
 "nbformat": 4,
 "nbformat_minor": 5
}
