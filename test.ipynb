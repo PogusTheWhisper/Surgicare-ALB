{
 "cells": [
  {
   "cell_type": "code",
   "execution_count": 2,
   "metadata": {},
   "outputs": [
    {
     "name": "stdout",
     "output_type": "stream",
     "text": [
      "Predicted: Normal\n"
     ]
    }
   ],
   "source": [
    "from utils.extract_wound_class import CachedWoundClassifier\n",
    "\n",
    "classifier = CachedWoundClassifier()\n",
    "label, probabilities = classifier.predict(\"careful_this_contain_wound_image/test/Normal/2.jpg\")\n",
    "print(f\"Predicted: {label}\")"
   ]
  },
  {
   "cell_type": "code",
   "execution_count": 2,
   "metadata": {},
   "outputs": [
    {
     "name": "stdout",
     "output_type": "stream",
     "text": [
      "\n",
      "Top features for wound class: Burns\n",
      "พบบวมพองซึ่งสอดคล้องกับแผลไฟไหม้ระดับที่สอง: 1.0000\n",
      "ความลึกของแผลไหม้ลามถึงชั้นใต้ผิวหนัง: 0.9414\n",
      "ผิวหนังไหม้ดำหรือแข็งคล้ายหนัง บ่งชี้แผลไหม้ลึกถึงชั้นผิวหนังทั้งหมด: 0.9111\n",
      "มีรอยแดงและบวมในบริเวณที่ไหม้: 0.7632\n",
      "ผิวหนังรอบแผลมีรอยแดงและเจ็บปวด: 0.6871\n",
      "แผลมีกลิ่นจางๆ ซึ่งพบได้ในแผลไฟไหม้: 0.6744\n",
      "บริเวณแผลไหม้มีผิวแห้ง แตก และลอกออก: 0.6097\n",
      "ขอบแผลไหม้ไม่เรียบและมีปฏิกิริยาของเนื้อเยื่อแตกต่างกัน: 0.5775\n",
      "ผิวหนังลอกออกและเห็นชั้นผิวหนังด้านใน: 0.4127\n",
      "ไม่มีเลือดออกมาก แต่มีสะเก็ดแผลเริ่มก่อตัว: 0.3827\n"
     ]
    }
   ],
   "source": [
    "from utils.extract_wound_features import CLIPWoundFeatureExtractor\n",
    "from utils.extract_wound_class import CachedWoundClassifier\n",
    "\n",
    "extractor = CLIPWoundFeatureExtractor()\n",
    "classifier = CachedWoundClassifier()\n",
    "image_path = 'careful_this_contain_wound_image/Burns/burns (20).jpg'\n",
    "wound_class, probabilities = classifier.predict(image_path)\n",
    "\n",
    "features = extractor.extract_features(image_path, wound_class, lang='th')\n",
    "\n",
    "print(f\"\\nTop features for wound class: {wound_class}\")\n",
    "for desc, score in features:\n",
    "    print(f\"{desc}: {score:.4f}\")"
   ]
  }
 ],
 "metadata": {
  "kernelspec": {
   "display_name": ".venv",
   "language": "python",
   "name": "python3"
  },
  "language_info": {
   "codemirror_mode": {
    "name": "ipython",
    "version": 3
   },
   "file_extension": ".py",
   "mimetype": "text/x-python",
   "name": "python",
   "nbconvert_exporter": "python",
   "pygments_lexer": "ipython3",
   "version": "3.10.5"
  }
 },
 "nbformat": 4,
 "nbformat_minor": 2
}
