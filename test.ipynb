{
 "cells": [
  {
   "cell_type": "code",
   "execution_count": null,
   "metadata": {},
   "outputs": [],
   "source": [
    "from utils.extract_wound_class import WoundClassificationModel\n",
    "classifier = WoundClassificationModel()\n",
    "predicted_class, predictions = classifier.extract_wound_class(\"Careful_this_contain_wound_image/burns_2.jpg\", \"SurgiCare-V1-large-turbo\")\n",
    "print(f\"Predicted class: {predicted_class}\")\n",
    "\n",
    "predicted_class, predictions = classifier.extract_wound_class(\"Careful_this_contain_wound_image/burns_2.jpg\", \"SurgiCare-V1-large-turbos\")\n",
    "print(f\"Predicted class: {predicted_class}\")"
   ]
  },
  {
   "cell_type": "code",
   "execution_count": null,
   "metadata": {},
   "outputs": [],
   "source": [
    "from utils.extract_wound_class import WoundClassificationModel\n",
    "classifier = WoundClassificationModel()\n",
    "predicted_class, predictions = classifier.extract_wound_class(\"Careful_this_contain_wound_image/burns_2.jpg\", \"SurgiCare-V1-large\")\n",
    "print(f\"Predicted class: {predicted_class}\")\n",
    "\n",
    "predicted_class, predictions = classifier.extract_wound_class(\"Careful_this_contain_wound_image/burns_2.jpg\", \"SurgiCare-V1-large\")\n",
    "print(f\"Predicted class: {predicted_class}\")"
   ]
  },
  {
   "cell_type": "code",
   "execution_count": 2,
   "metadata": {},
   "outputs": [
    {
     "name": "stdout",
     "output_type": "stream",
     "text": [
      "No model is currently loaded.\n"
     ]
    }
   ],
   "source": [
    "from utils.extract_wound_class import WoundClassificationModel\n",
    "classifier = WoundClassificationModel()\n",
    "classifier.status()  # Show current model status"
   ]
  },
  {
   "cell_type": "code",
   "execution_count": 17,
   "metadata": {},
   "outputs": [
    {
     "ename": "AttributeError",
     "evalue": "'WoundClassificationModel' object has no attribute 'info'",
     "output_type": "error",
     "traceback": [
      "\u001b[0;31m---------------------------------------------------------------------------\u001b[0m",
      "\u001b[0;31mAttributeError\u001b[0m                            Traceback (most recent call last)",
      "Cell \u001b[0;32mIn[17], line 1\u001b[0m\n\u001b[0;32m----> 1\u001b[0m \u001b[43mclassifier\u001b[49m\u001b[38;5;241;43m.\u001b[39;49m\u001b[43minfo\u001b[49m(\u001b[38;5;124m\"\u001b[39m\u001b[38;5;124mSurgiCare-V1-best\u001b[39m\u001b[38;5;124m\"\u001b[39m)\n",
      "\u001b[0;31mAttributeError\u001b[0m: 'WoundClassificationModel' object has no attribute 'info'"
     ]
    }
   ],
   "source": [
    "classifier.info(\"SurgiCare-V1-best\")"
   ]
  },
  {
   "cell_type": "code",
   "execution_count": 1,
   "metadata": {},
   "outputs": [
    {
     "name": "stdout",
     "output_type": "stream",
     "text": [
      "Available models:\n",
      "- SurgiCare-V1-large-turbo\n",
      "- SurgiCare-V1-large\n",
      "- SurgiCare-V1-medium\n",
      "- SurgiCare-V1-small\n"
     ]
    }
   ],
   "source": [
    "from utils.extract_wound_class import WoundClassificationModel\n",
    "classifier = WoundClassificationModel()\n",
    "classifier.list_available_models()  # List available models"
   ]
  },
  {
   "cell_type": "code",
   "execution_count": 18,
   "metadata": {},
   "outputs": [
    {
     "ename": "AttributeError",
     "evalue": "'WoundClassificationModel' object has no attribute 'select_model'",
     "output_type": "error",
     "traceback": [
      "\u001b[0;31m---------------------------------------------------------------------------\u001b[0m",
      "\u001b[0;31mAttributeError\u001b[0m                            Traceback (most recent call last)",
      "Cell \u001b[0;32mIn[18], line 1\u001b[0m\n\u001b[0;32m----> 1\u001b[0m \u001b[43mclassifier\u001b[49m\u001b[38;5;241;43m.\u001b[39;49m\u001b[43mselect_model\u001b[49m(\u001b[38;5;124m\"\u001b[39m\u001b[38;5;124mSurgiCare-V1-small\u001b[39m\u001b[38;5;124m\"\u001b[39m)  \u001b[38;5;66;03m# Manually select and load the model\u001b[39;00m\n",
      "\u001b[0;31mAttributeError\u001b[0m: 'WoundClassificationModel' object has no attribute 'select_model'"
     ]
    }
   ],
   "source": [
    "classifier.select_model(\"SurgiCare-V1-small\")  # Manually select and load the model\n"
   ]
  },
  {
   "cell_type": "code",
   "execution_count": 19,
   "metadata": {},
   "outputs": [
    {
     "ename": "TypeError",
     "evalue": "WoundClassificationModel.extract_wound_class() takes 2 positional arguments but 3 were given",
     "output_type": "error",
     "traceback": [
      "\u001b[0;31m---------------------------------------------------------------------------\u001b[0m",
      "\u001b[0;31mTypeError\u001b[0m                                 Traceback (most recent call last)",
      "Cell \u001b[0;32mIn[19], line 1\u001b[0m\n\u001b[0;32m----> 1\u001b[0m \u001b[43mclassifier\u001b[49m\u001b[38;5;241;43m.\u001b[39;49m\u001b[43mextract_wound_class\u001b[49m\u001b[43m(\u001b[49m\u001b[38;5;124;43m\"\u001b[39;49m\u001b[38;5;124;43mCareful_this_contain_wound_image/burns_2.jpg\u001b[39;49m\u001b[38;5;124;43m\"\u001b[39;49m\u001b[43m,\u001b[49m\u001b[43m \u001b[49m\u001b[43mclassifier\u001b[49m\u001b[38;5;241;43m.\u001b[39;49m\u001b[43mcurrent_model_name\u001b[49m\u001b[43m)\u001b[49m\n",
      "\u001b[0;31mTypeError\u001b[0m: WoundClassificationModel.extract_wound_class() takes 2 positional arguments but 3 were given"
     ]
    }
   ],
   "source": [
    "classifier.extract_wound_class(\"Careful_this_contain_wound_image/burns_2.jpg\", classifier.current_model_name)\n"
   ]
  },
  {
   "cell_type": "code",
   "execution_count": null,
   "metadata": {},
   "outputs": [],
   "source": [
    "\n",
    "classifier.status()  # Show current model status"
   ]
  },
  {
   "cell_type": "code",
   "execution_count": 4,
   "metadata": {},
   "outputs": [
    {
     "name": "stdout",
     "output_type": "stream",
     "text": [
      "Model 'SurgiCare-V1-small' is already loaded.\n"
     ]
    },
    {
     "data": {
      "text/plain": [
       "<Functional name=functional_1, built=True>"
      ]
     },
     "execution_count": 4,
     "metadata": {},
     "output_type": "execute_result"
    }
   ],
   "source": [
    "from utils.extract_wound_class import WoundClassificationModel\n",
    "classifier = WoundClassificationModel()\n",
    "classifier.load_model(\"SurgiCare-V1-small\")\n"
   ]
  },
  {
   "cell_type": "code",
   "execution_count": 2,
   "metadata": {},
   "outputs": [
    {
     "name": "stderr",
     "output_type": "stream",
     "text": [
      "WARNING: All log messages before absl::InitializeLog() is called are written to STDERR\n",
      "I0000 00:00:1727346058.553009 5562116 service.cc:146] XLA service 0x17f52d2b0 initialized for platform Host (this does not guarantee that XLA will be used). Devices:\n",
      "I0000 00:00:1727346058.553025 5562116 service.cc:154]   StreamExecutor device (0): Host, Default Version\n",
      "2024-09-26 17:20:58.578336: I tensorflow/compiler/mlir/tensorflow/utils/dump_mlir_util.cc:268] disabling MLIR crash reproducer, set env var `MLIR_CRASH_REPRODUCER_DIRECTORY` to enable.\n"
     ]
    },
    {
     "name": "stdout",
     "output_type": "stream",
     "text": [
      "\u001b[1m1/1\u001b[0m \u001b[32m━━━━━━━━━━━━━━━━━━━━\u001b[0m\u001b[37m\u001b[0m \u001b[1m1s\u001b[0m 1s/step\n"
     ]
    },
    {
     "name": "stderr",
     "output_type": "stream",
     "text": [
      "I0000 00:00:1727346059.375182 5562116 device_compiler.h:188] Compiled cluster using XLA!  This line is logged at most once for the lifetime of the process.\n"
     ]
    }
   ],
   "source": [
    "predicted_class, predictions = classifier.extract_wound_class(\"Careful_this_contain_wound_image/burns_1.jpg\")  # Use the loaded model"
   ]
  },
  {
   "cell_type": "code",
   "execution_count": 7,
   "metadata": {},
   "outputs": [
    {
     "name": "stdout",
     "output_type": "stream",
     "text": [
      "Model downloaded successfully and saved to /Users/pogus-mac/Documents/Project-VScode/Surgicare/SurgiCare-V1-medium.keras.\n",
      "Loading model from /Users/pogus-mac/Documents/Project-VScode/Surgicare/SurgiCare-V1-medium.keras...\n",
      "Model loaded successfully.\n"
     ]
    },
    {
     "name": "stderr",
     "output_type": "stream",
     "text": [
      "/Users/pogus-mac/Documents/Project-VScode/Surgicare/.venv/lib/python3.11/site-packages/keras/src/saving/saving_lib.py:713: UserWarning: Skipping variable loading for optimizer 'adam', because it has 358 variables whereas the saved optimizer has 362 variables. \n",
      "  saveable.load_own_variables(weights_store.get(inner_path))\n"
     ]
    },
    {
     "data": {
      "text/plain": [
       "<Functional name=functional_1, built=True>"
      ]
     },
     "execution_count": 7,
     "metadata": {},
     "output_type": "execute_result"
    }
   ],
   "source": [
    "classifier.load_model(\"SurgiCare-V1-medium\")"
   ]
  },
  {
   "cell_type": "code",
   "execution_count": 13,
   "metadata": {},
   "outputs": [
    {
     "name": "stdout",
     "output_type": "stream",
     "text": [
      "\u001b[1m1/1\u001b[0m \u001b[32m━━━━━━━━━━━━━━━━━━━━\u001b[0m\u001b[37m\u001b[0m \u001b[1m0s\u001b[0m 122ms/step\n"
     ]
    }
   ],
   "source": [
    "predicted_class, predictions = classifier.extract_wound_class(\"careful_this_contain_wound_image/pressure_wounds_1.jpg\")  # Use the loaded model"
   ]
  },
  {
   "cell_type": "code",
   "execution_count": 14,
   "metadata": {},
   "outputs": [
    {
     "data": {
      "text/plain": [
       "'Pressure Wounds'"
      ]
     },
     "execution_count": 14,
     "metadata": {},
     "output_type": "execute_result"
    }
   ],
   "source": [
    "predicted_class"
   ]
  },
  {
   "cell_type": "code",
   "execution_count": null,
   "metadata": {},
   "outputs": [],
   "source": []
  }
 ],
 "metadata": {
  "kernelspec": {
   "display_name": ".venv",
   "language": "python",
   "name": "python3"
  },
  "language_info": {
   "codemirror_mode": {
    "name": "ipython",
    "version": 3
   },
   "file_extension": ".py",
   "mimetype": "text/x-python",
   "name": "python",
   "nbconvert_exporter": "python",
   "pygments_lexer": "ipython3",
   "version": "3.11.9"
  }
 },
 "nbformat": 4,
 "nbformat_minor": 2
}
